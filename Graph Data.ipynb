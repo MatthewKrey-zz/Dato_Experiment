{
 "cells": [
  {
   "cell_type": "code",
   "execution_count": 14,
   "metadata": {
    "collapsed": false
   },
   "outputs": [
    {
     "name": "stdout",
     "output_type": "stream",
     "text": [
      "SGraph({'num_edges': 1, 'num_vertices': 3})\n"
     ]
    }
   ],
   "source": [
    "\"\"\"\n",
    "Experimenting with Graph Data in Dato and Dato SGraph Objects\n",
    "More about SGraph @ https://dato.com/products/create/docs/generated/graphlab.SGraph.html\n",
    "\"\"\"\n",
    "import graphlab as gl\n",
    "from graphlab import SGraph, Vertex, Edge\n",
    "g = SGraph()\n",
    "verts = [Vertex(0, attr={'breed': 'labrador'}),\n",
    "         Vertex(1, attr={'breed': 'labrador'}),\n",
    "         Vertex(2, attr={'breed': 'vizsla'})]\n",
    "g = g.add_vertices(verts)\n",
    "g = g.add_edges(Edge(1,2))\n",
    "print g"
   ]
  },
  {
   "cell_type": "code",
   "execution_count": 15,
   "metadata": {
    "collapsed": false
   },
   "outputs": [
    {
     "name": "stdout",
     "output_type": "stream",
     "text": [
      "SGraph({'num_edges': 9, 'num_vertices': 10})\n"
     ]
    }
   ],
   "source": [
    "# Chain together into a single line to contstruct a new graph\n",
    "\n",
    "g = SGraph().add_vertices([Vertex(i) for i in range(10)]).add_edges([Edge(i, i+1) for i in range(9)])\n",
    "print g "
   ]
  },
  {
   "cell_type": "code",
   "execution_count": 16,
   "metadata": {
    "collapsed": false
   },
   "outputs": [
    {
     "name": "stdout",
     "output_type": "stream",
     "text": [
      "PROGRESS: Finished parsing file http://s3.amazonaws.com/dato-datasets/bond/bond_edges.csv\n",
      "PROGRESS: Parsing completed. Parsed 20 lines in 0.023708 secs.\n",
      "------------------------------------------------------\n",
      "Inferred types from first line of file as \n",
      "column_type_hints=[str,str,str]\n",
      "If parsing fails due to incorrect types, you can correct\n",
      "the inferred type list above and pass it to read_csv in\n",
      "the column_type_hints argument\n",
      "------------------------------------------------------\n",
      "PROGRESS: Finished parsing file http://s3.amazonaws.com/dato-datasets/bond/bond_edges.csv\n",
      "PROGRESS: Parsing completed. Parsed 20 lines in 0.009394 secs.\n",
      "SGraph({'num_edges': 20, 'num_vertices': 10})\n"
     ]
    }
   ],
   "source": [
    "# Bond, James Bond...\n",
    "\n",
    "from graphlab import SFrame\n",
    "edge_data = SFrame.read_csv('http://s3.amazonaws.com/dato-datasets/bond/bond_edges.csv')\n",
    "\n",
    "g = SGraph()\n",
    "g = g.add_edges(edge_data, src_field='src', dst_field='dst')\n",
    "print g "
   ]
  },
  {
   "cell_type": "code",
   "execution_count": 17,
   "metadata": {
    "collapsed": false
   },
   "outputs": [
    {
     "name": "stdout",
     "output_type": "stream",
     "text": [
      "PROGRESS: Finished parsing file http://s3.amazonaws.com/dato-datasets/bond/bond_vertices.csv\n",
      "PROGRESS: Parsing completed. Parsed 10 lines in 0.010577 secs.\n",
      "------------------------------------------------------\n",
      "Inferred types from first line of file as \n",
      "column_type_hints=[str,str,int,int]\n",
      "If parsing fails due to incorrect types, you can correct\n",
      "the inferred type list above and pass it to read_csv in\n",
      "the column_type_hints argument\n",
      "------------------------------------------------------\n",
      "PROGRESS: Finished parsing file http://s3.amazonaws.com/dato-datasets/bond/bond_vertices.csv\n",
      "PROGRESS: Parsing completed. Parsed 10 lines in 0.009086 secs.\n",
      "SGraph({'num_edges': 20, 'num_vertices': 10})\n"
     ]
    }
   ],
   "source": [
    "# This same graph can be built in 2 lines! \n",
    "\n",
    "vertex_data = SFrame.read_csv('http://s3.amazonaws.com/dato-datasets/bond/bond_vertices.csv')\n",
    "\n",
    "g = SGraph(vertices=vertex_data, edges=edge_data, vid_field='name', src_field='src', dst_field='dst')\n",
    "\n",
    "print g"
   ]
  },
  {
   "cell_type": "code",
   "execution_count": 19,
   "metadata": {
    "collapsed": false
   },
   "outputs": [],
   "source": [
    "# An SGraph can be created directly from a local or remote file\n",
    "# graphlab.load_sgraph() @ https://dato.com/products/create/docs/generated/graphlab.load_sgraph.html\n",
    "\n",
    "g.save('james_bond')\n",
    "new_graph = gl.load_sgraph('james_bond')"
   ]
  },
  {
   "cell_type": "code",
   "execution_count": 20,
   "metadata": {
    "collapsed": false
   },
   "outputs": [
    {
     "name": "stdout",
     "output_type": "stream",
     "text": [
      "Canvas is accessible via web browser at the URL: http://localhost:55989/index.html\n",
      "Opening Canvas in default web browser.\n"
     ]
    }
   ],
   "source": [
    "# Inspecting SGraphs\n",
    "\n",
    "g.show(vlabel='id', highlight=['James Bond', 'Moneypenny'], arrows=True)"
   ]
  },
  {
   "cell_type": "code",
   "execution_count": 21,
   "metadata": {
    "collapsed": false
   },
   "outputs": [
    {
     "name": "stdout",
     "output_type": "stream",
     "text": [
      "{'num_edges': 20, 'num_vertices': 10}\n"
     ]
    }
   ],
   "source": [
    "# Summarize graphs before exploring \n",
    "\n",
    "print g.summary()"
   ]
  },
  {
   "cell_type": "code",
   "execution_count": 22,
   "metadata": {
    "collapsed": false
   },
   "outputs": [
    {
     "name": "stdout",
     "output_type": "stream",
     "text": [
      "+------------+--------+-----------------+---------+\n",
      "|    __id    | gender | license_to_kill | villian |\n",
      "+------------+--------+-----------------+---------+\n",
      "| James Bond |   M    |        1        |    0    |\n",
      "+------------+--------+-----------------+---------+\n",
      "[1 rows x 4 columns]\n",
      "\n"
     ]
    }
   ],
   "source": [
    "# Easily filter edges and vertices based on vertex IDs or attributes \n",
    "\n",
    "sub_verts = g.get_vertices(ids=['James Bond'])\n",
    "print sub_verts"
   ]
  },
  {
   "cell_type": "code",
   "execution_count": 23,
   "metadata": {
    "collapsed": false
   },
   "outputs": [
    {
     "name": "stdout",
     "output_type": "stream",
     "text": [
      "+---------------+-------------+----------+\n",
      "|    __src_id   |   __dst_id  | relation |\n",
      "+---------------+-------------+----------+\n",
      "|       M       |  Moneypenny | worksfor |\n",
      "|       M       |  James Bond | worksfor |\n",
      "|       M       |      Q      | worksfor |\n",
      "| Elliot Carver | Henry Gupta | worksfor |\n",
      "| Elliot Carver |  Gotz Otto  | worksfor |\n",
      "+---------------+-------------+----------+\n",
      "[5 rows x 3 columns]\n",
      "\n"
     ]
    }
   ],
   "source": [
    "sub_edges = g.get_edges(fields={'relation': 'worksfor'})\n",
    "print sub_edges"
   ]
  },
  {
   "cell_type": "code",
   "execution_count": 24,
   "metadata": {
    "collapsed": false
   },
   "outputs": [
    {
     "name": "stdout",
     "output_type": "stream",
     "text": [
      "Canvas is updated and available in a tab in the default browser.\n"
     ]
    }
   ],
   "source": [
    "# Retrieve subsets of a data graph near a set of target vertices (aka - egocentric neighborhood of the target vertices).\n",
    "\n",
    "targets = ['James Bond', 'Moneypenny']\n",
    "subgraph = g.get_neighborhood(ids=targets, radius=1, full_subgraph=True)\n",
    "subgraph.show(vlabel='id', highlight=['James Bond', 'Moneypenny'], arrows=True)"
   ]
  },
  {
   "cell_type": "code",
   "execution_count": 26,
   "metadata": {
    "collapsed": false
   },
   "outputs": [
    {
     "name": "stdout",
     "output_type": "stream",
     "text": [
      "+----------------+----------------+------------+\n",
      "|    __src_id    |    __dst_id    |  relation  |\n",
      "+----------------+----------------+------------+\n",
      "|   Moneypenny   |       M        | managed_by |\n",
      "|   Moneypenny   |       Q        | colleague  |\n",
      "| Inga Bergstorm |   James Bond   |   friend   |\n",
      "|  Henry Gupta   | Elliot Carver  | killed_by  |\n",
      "|   James Bond   | Inga Bergstorm |   friend   |\n",
      "+----------------+----------------+------------+\n",
      "[20 rows x 3 columns]\n",
      "\n",
      "+----------------+----------------+------------+\n",
      "|    __src_id    |    __dst_id    |  relation  |\n",
      "+----------------+----------------+------------+\n",
      "|   Moneypenny   |       M        | managed_by |\n",
      "|   Moneypenny   |       Q        | colleague  |\n",
      "| Inga Bergstorm |   James Bond   |   friend   |\n",
      "|  Henry Gupta   | Elliot Carver  | killed_by  |\n",
      "|   James Bond   | Inga Bergstorm |   friend   |\n",
      "+----------------+----------------+------------+\n",
      "[20 rows x 3 columns]\n",
      "\n"
     ]
    }
   ],
   "source": [
    "# SGraphs are structurally immutable, but the data stored on vertices and edges can be mutated using SGraph.vertices and SGraph.edges\n",
    "\n",
    "g.edges.print_rows(5)             # SFrame is bound to g \n",
    "g.get_edges().print_rows(5)       # SFrame is independent from g "
   ]
  },
  {
   "cell_type": "code",
   "execution_count": 27,
   "metadata": {
    "collapsed": false
   },
   "outputs": [
    {
     "name": "stdout",
     "output_type": "stream",
     "text": [
      "+----------------+----------------+----------+\n",
      "|    __src_id    |    __dst_id    | relation |\n",
      "+----------------+----------------+----------+\n",
      "|   Moneypenny   |       M        |    M     |\n",
      "|   Moneypenny   |       Q        |    C     |\n",
      "| Inga Bergstorm |   James Bond   |    F     |\n",
      "|  Henry Gupta   | Elliot Carver  |    K     |\n",
      "|   James Bond   | Inga Bergstorm |    F     |\n",
      "+----------------+----------------+----------+\n",
      "[20 rows x 3 columns]\n",
      "\n"
     ]
    }
   ],
   "source": [
    "# Mutate relationships between edges \n",
    "\n",
    "g.edges['relation'] = g.edges['relation'].apply(lambda x: x[0].upper())\n",
    "g.get_edges().print_rows(5)"
   ]
  },
  {
   "cell_type": "code",
   "execution_count": 28,
   "metadata": {
    "collapsed": false
   },
   "outputs": [
    {
     "name": "stdout",
     "output_type": "stream",
     "text": [
      "+----------------+----------------+----------+\n",
      "|    __src_id    |    __dst_id    | relation |\n",
      "+----------------+----------------+----------+\n",
      "|   Moneypenny   |       M        |    M     |\n",
      "|   Moneypenny   |       Q        |    C     |\n",
      "| Inga Bergstorm |   James Bond   |    F     |\n",
      "|  Henry Gupta   | Elliot Carver  |    K     |\n",
      "|   James Bond   | Inga Bergstorm |    F     |\n",
      "+----------------+----------------+----------+\n",
      "[20 rows x 3 columns]\n",
      "\n"
     ]
    }
   ],
   "source": [
    "# Modify graph but do not mutate the relation attribute on the edges of the graph \n",
    "\n",
    "e = g.get_edges() \n",
    "e['relation'] = e['relation'].apply(lambda x: x[0].lower())\n",
    "g.get_edges().print_rows(5)"
   ]
  },
  {
   "cell_type": "code",
   "execution_count": 37,
   "metadata": {
    "collapsed": false
   },
   "outputs": [
    {
     "name": "stdout",
     "output_type": "stream",
     "text": [
      "+----------------+----------------+----------+-----------+\n",
      "|    __src_id    |    __dst_id    | relation | is_friend |\n",
      "+----------------+----------------+----------+-----------+\n",
      "|   Moneypenny   |       M        |    M     |     0     |\n",
      "|   Moneypenny   |       Q        |    C     |     0     |\n",
      "| Inga Bergstorm |   James Bond   |    F     |     1     |\n",
      "|  Henry Gupta   | Elliot Carver  |    K     |     0     |\n",
      "|   James Bond   | Inga Bergstorm |    F     |     1     |\n",
      "+----------------+----------------+----------+-----------+\n",
      "[5 rows x 4 columns]\n",
      " +---------------+--------------+----------+-----------+\n",
      "|    __src_id   |   __dst_id   | relation | is_frined |\n",
      "+---------------+--------------+----------+-----------+\n",
      "| Elliot Carver | Henry Gupta  |    W     |     0     |\n",
      "| Elliot Carver |  James Bond  |    K     |     0     |\n",
      "| Elliot Carver | Paris Carver |    E     |     1     |\n",
      "| Elliot Carver |  Gotz Otto   |    W     |     0     |\n",
      "|   Gotz Otto   |  James Bond  |    K     |     1     |\n",
      "+---------------+--------------+----------+-----------+\n",
      "[5 rows x 4 columns]\n",
      "\n"
     ]
    }
   ],
   "source": [
    "# Experiment with different methods on a graph-related SFrame. Results in new instance of a regular SFrame.\n",
    "\n",
    "e1 = g.edges.head(5)\n",
    "e2 = g.edges.tail(5)\n",
    "e1['is_friend'] = e['relation'].apply(lambda x: x[0] == 'F')\n",
    "e2['is_frined'] = e['relation'].apply(lambda x: x[0] == 'F')\n",
    "# e.show()\n",
    "print e1, e2\n",
    "\n",
    "# __id, __src_id, _dst_id fields are not mutable because changing them would change the structure of the graph and SGraph is structurally immutable"
   ]
  },
  {
   "cell_type": "code",
   "execution_count": 39,
   "metadata": {
    "collapsed": true
   },
   "outputs": [],
   "source": [
    "# Easily modify graph data\n",
    "\n",
    "g.edges['weight'] = 1.0\n",
    "del g.edges['weight']"
   ]
  },
  {
   "cell_type": "code",
   "execution_count": 40,
   "metadata": {
    "collapsed": false
   },
   "outputs": [
    {
     "name": "stdout",
     "output_type": "stream",
     "text": [
      "+----------------+--------+-----------------+---------+--------+\n",
      "|      __id      | gender | license_to_kill | villian | degree |\n",
      "+----------------+--------+-----------------+---------+--------+\n",
      "|   James Bond   |   M    |        1        |    0    |   8    |\n",
      "| Elliot Carver  |   M    |        0        |    1    |   7    |\n",
      "|       M        |   M    |        1        |    0    |   6    |\n",
      "|   Moneypenny   |   F    |        1        |    0    |   4    |\n",
      "|       Q        |   M    |        1        |    0    |   4    |\n",
      "|  Paris Carver  |   F    |        0        |    1    |   3    |\n",
      "| Inga Bergstorm |   F    |        0        |    0    |   2    |\n",
      "|    Wai Lin     |   F    |        1        |    0    |   2    |\n",
      "|  Henry Gupta   |   M    |        0        |    1    |   2    |\n",
      "|   Gotz Otto    |   M    |        0        |    1    |   2    |\n",
      "+----------------+--------+-----------------+---------+--------+\n",
      "[10 rows x 5 columns]\n",
      "\n"
     ]
    }
   ],
   "source": [
    "\"\"\"\n",
    "Super interesting graph method: triple_apply   (https://dato.com/products/create/docs/generated/graphlab.SGraph.triple_apply.html#graphlab.SGraph.triple_apply) \n",
    "\n",
    "Can help solve classic problems with relative speed & ease:\n",
    "single-source shortest path (https://en.wikipedia.org/wiki/Shortest_path_problem)\n",
    "weighted PageRank (https://en.wikipedia.org/wiki/PageRank)\n",
    "\"\"\"\n",
    "\n",
    "def increment_degree(src, edge, dst):\n",
    "    src['degree'] += 1 \n",
    "    dst['degree'] += 1 \n",
    "    return (src, edge, dst)\n",
    "\n",
    "g.vertices['degree'] = 0\n",
    "\n",
    "g = g.triple_apply(increment_degree, mutated_fields=['degree'])\n",
    "print g.vertices.sort('degree', ascending=False)"
   ]
  },
  {
   "cell_type": "code",
   "execution_count": null,
   "metadata": {
    "collapsed": true
   },
   "outputs": [],
   "source": []
  }
 ],
 "metadata": {
  "kernelspec": {
   "display_name": "Python 2",
   "language": "python",
   "name": "python2"
  },
  "language_info": {
   "codemirror_mode": {
    "name": "ipython",
    "version": 2
   },
   "file_extension": ".py",
   "mimetype": "text/x-python",
   "name": "python",
   "nbconvert_exporter": "python",
   "pygments_lexer": "ipython2",
   "version": "2.7.11"
  }
 },
 "nbformat": 4,
 "nbformat_minor": 0
}
