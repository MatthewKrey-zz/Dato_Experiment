{
 "cells": [
  {
   "cell_type": "code",
   "execution_count": 18,
   "metadata": {
    "collapsed": false
   },
   "outputs": [],
   "source": [
    "import graphlab as gl\n",
    "import datetime as dt \n",
    "\n",
    "household_data = gl.SFrame(\"http://s3.amazonaws.com/dato-datasets/household_electric_sample.sf\")\n"
   ]
  },
  {
   "cell_type": "code",
   "execution_count": 19,
   "metadata": {
    "collapsed": false
   },
   "outputs": [
    {
     "name": "stdout",
     "output_type": "stream",
     "text": [
      "+---------------------+---------------------+-----------------------+---------+\n",
      "|       DateTime      | Global_active_power | Global_reactive_power | Voltage |\n",
      "+---------------------+---------------------+-----------------------+---------+\n",
      "| 2006-12-16 17:24:00 |        4.216        |         0.418         |  234.84 |\n",
      "| 2006-12-16 17:26:00 |        5.374        |         0.498         |  233.29 |\n",
      "| 2006-12-16 17:28:00 |        3.666        |         0.528         |  235.68 |\n",
      "| 2006-12-16 17:29:00 |         3.52        |         0.522         |  235.02 |\n",
      "| 2006-12-16 17:31:00 |         3.7         |          0.52         |  235.22 |\n",
      "| 2006-12-16 17:32:00 |        3.668        |          0.51         |  233.99 |\n",
      "| 2006-12-16 17:40:00 |         3.27        |         0.152         |  236.73 |\n",
      "| 2006-12-16 17:43:00 |        3.728        |          0.0          |  235.84 |\n",
      "| 2006-12-16 17:44:00 |        5.894        |          0.0          |  232.69 |\n",
      "| 2006-12-16 17:46:00 |        7.026        |          0.0          |  232.21 |\n",
      "+---------------------+---------------------+-----------------------+---------+\n",
      "[1025260 rows x 4 columns]\n",
      "Note: Only the head of the TimeSeries is printed.\n",
      "You can use print_rows(num_rows=m, num_columns=n) to print more rows and columns.\n",
      "The index column of the TimeSeries is: DateTime\n"
     ]
    }
   ],
   "source": [
    "# First Time Series with Dato \n",
    "\n",
    "household_ts = gl.TimeSeries(household_data, index=\"DateTime\")\n",
    "print household_ts "
   ]
  },
  {
   "cell_type": "code",
   "execution_count": 20,
   "metadata": {
    "collapsed": false
   },
   "outputs": [
    {
     "name": "stdout",
     "output_type": "stream",
     "text": [
      "+---------------------+---------------------+-----------------------+---------+\n",
      "|       DateTime      | Global_active_power | Global_reactive_power | Voltage |\n",
      "+---------------------+---------------------+-----------------------+---------+\n",
      "| 2006-12-16 17:24:00 |        4.216        |         0.418         |  234.84 |\n",
      "| 2006-12-16 17:26:00 |        5.374        |         0.498         |  233.29 |\n",
      "| 2006-12-16 17:28:00 |        3.666        |         0.528         |  235.68 |\n",
      "| 2006-12-16 17:29:00 |         3.52        |         0.522         |  235.02 |\n",
      "| 2006-12-16 17:31:00 |         3.7         |          0.52         |  235.22 |\n",
      "| 2006-12-16 17:32:00 |        3.668        |          0.51         |  233.99 |\n",
      "| 2006-12-16 17:40:00 |         3.27        |         0.152         |  236.73 |\n",
      "| 2006-12-16 17:43:00 |        3.728        |          0.0          |  235.84 |\n",
      "| 2006-12-16 17:44:00 |        5.894        |          0.0          |  232.69 |\n",
      "| 2006-12-16 17:46:00 |        7.026        |          0.0          |  232.21 |\n",
      "+---------------------+---------------------+-----------------------+---------+\n",
      "[1025260 rows x 4 columns]\n",
      "Note: Only the head of the SFrame is printed.\n",
      "You can use print_rows(num_rows=m, num_columns=n) to print more rows and columns.\n"
     ]
    }
   ],
   "source": [
    "sf = household_ts.to_sframe()\n",
    "print sf"
   ]
  },
  {
   "cell_type": "code",
   "execution_count": 21,
   "metadata": {
    "collapsed": false
   },
   "outputs": [
    {
     "name": "stdout",
     "output_type": "stream",
     "text": [
      "+---------------------+---------------------+-----------------------+\n",
      "|       DateTime      | Global_active_power | Global_reactive_power |\n",
      "+---------------------+---------------------+-----------------------+\n",
      "| 2006-12-16 17:24:00 |        4.216        |         0.418         |\n",
      "| 2006-12-16 17:26:00 |        5.374        |         0.498         |\n",
      "| 2006-12-16 17:28:00 |        3.666        |         0.528         |\n",
      "| 2006-12-16 17:29:00 |         3.52        |         0.522         |\n",
      "| 2006-12-16 17:31:00 |         3.7         |          0.52         |\n",
      "| 2006-12-16 17:32:00 |        3.668        |          0.51         |\n",
      "| 2006-12-16 17:40:00 |         3.27        |         0.152         |\n",
      "| 2006-12-16 17:43:00 |        3.728        |          0.0          |\n",
      "| 2006-12-16 17:44:00 |        5.894        |          0.0          |\n",
      "| 2006-12-16 17:46:00 |        7.026        |          0.0          |\n",
      "+---------------------+---------------------+-----------------------+\n",
      "[1025260 rows x 3 columns]\n",
      "Note: Only the head of the TimeSeries is printed.\n",
      "You can use print_rows(num_rows=m, num_columns=n) to print more rows and columns.\n",
      "The index column of the TimeSeries is: DateTime\n"
     ]
    }
   ],
   "source": [
    "ts_power = household_ts[['Global_active_power', 'Global_reactive_power']]\n",
    "print ts_power"
   ]
  },
  {
   "cell_type": "code",
   "execution_count": 23,
   "metadata": {
    "collapsed": false
   },
   "outputs": [
    {
     "name": "stdout",
     "output_type": "stream",
     "text": [
      "+---------------------+---------------------+-----------------------+---------+\n",
      "|       DateTime      | Global_active_power | Global_reactive_power | Voltage |\n",
      "+---------------------+---------------------+-----------------------+---------+\n",
      "| 2006-12-16 00:00:00 |        7.026        |         0.528         |  243.73 |\n",
      "| 2006-12-17 00:00:00 |         6.58        |         0.582         |  249.07 |\n",
      "| 2006-12-18 00:00:00 |        5.436        |         0.646         |  248.48 |\n",
      "| 2006-12-19 00:00:00 |         7.84        |         0.606         |  248.89 |\n",
      "| 2006-12-20 00:00:00 |        5.988        |         0.482         |  249.48 |\n",
      "| 2006-12-21 00:00:00 |        5.614        |         0.688         |  247.08 |\n",
      "| 2006-12-22 00:00:00 |        7.884        |         0.622         |  248.82 |\n",
      "| 2006-12-23 00:00:00 |        8.698        |         0.724         |  246.77 |\n",
      "| 2006-12-24 00:00:00 |        6.498        |         0.494         |  249.27 |\n",
      "| 2006-12-25 00:00:00 |        6.702        |          0.7          |  250.62 |\n",
      "+---------------------+---------------------+-----------------------+---------+\n",
      "[1442 rows x 4 columns]\n",
      "Note: Only the head of the TimeSeries is printed.\n",
      "You can use print_rows(num_rows=m, num_columns=n) to print more rows and columns.\n",
      "The index column of the TimeSeries is: DateTime\n"
     ]
    }
   ],
   "source": [
    "# Resampling \n",
    "# Observations required to be over a uniform time intervals \n",
    "\n",
    "day = dt.timedelta(days = 1)\n",
    "daily_ts = household_ts.resample(day, downsample_method='max', upsample_method=None)\n",
    "print daily_ts"
   ]
  },
  {
   "cell_type": "code",
   "execution_count": null,
   "metadata": {
    "collapsed": true
   },
   "outputs": [],
   "source": []
  }
 ],
 "metadata": {
  "kernelspec": {
   "display_name": "Python 2",
   "language": "python",
   "name": "python2"
  },
  "language_info": {
   "codemirror_mode": {
    "name": "ipython",
    "version": 2
   },
   "file_extension": ".py",
   "mimetype": "text/x-python",
   "name": "python",
   "nbconvert_exporter": "python",
   "pygments_lexer": "ipython2",
   "version": "2.7.11"
  }
 },
 "nbformat": 4,
 "nbformat_minor": 0
}
