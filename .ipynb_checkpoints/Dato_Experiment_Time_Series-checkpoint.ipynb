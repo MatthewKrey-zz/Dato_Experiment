{
 "cells": [
  {
   "cell_type": "code",
   "execution_count": 1,
   "metadata": {
    "collapsed": false
   },
   "outputs": [
    {
     "name": "stderr",
     "output_type": "stream",
     "text": [
      "[INFO] \u001b[1;32m1451089522 : INFO:     (initialize_globals_from_environment:282): Setting configuration variable GRAPHLAB_FILEIO_ALTERNATIVE_SSL_CERT_FILE to /Users/matthewkrey/anaconda2/envs/dato-env/lib/python2.7/site-packages/certifi/cacert.pem\n",
      "\u001b[0m\u001b[1;32m1451089522 : INFO:     (initialize_globals_from_environment:282): Setting configuration variable GRAPHLAB_FILEIO_ALTERNATIVE_SSL_CERT_DIR to \n",
      "\u001b[0mThis non-commercial license of GraphLab Create is assigned to matthew.krey@flatironschool.com and will expire on December 14, 2016. For commercial licensing options, visit https://dato.com/buy/.\n",
      "\n",
      "[INFO] Start server at: ipc:///tmp/graphlab_server-88294 - Server binary: /Users/matthewkrey/anaconda2/envs/dato-env/lib/python2.7/site-packages/graphlab/unity_server - Server log: /tmp/graphlab_server_1451089522.log\n",
      "[INFO] GraphLab Server Version: 1.7.1\n"
     ]
    },
    {
     "name": "stdout",
     "output_type": "stream",
     "text": [
      "PROGRESS: Downloading http://s3.amazonaws.com/dato-datasets/household_electric_sample.sf/dir_archive.ini to /var/tmp/graphlab-matthewkrey/88294/0d73478b-6fd0-453c-892e-c0301d5cc31e.ini\n",
      "PROGRESS: Downloading http://s3.amazonaws.com/dato-datasets/household_electric_sample.sf/objects.bin to /var/tmp/graphlab-matthewkrey/88294/49fa9bc1-e19a-4fe6-b6bc-68f9cf9b51b7.bin\n",
      "PROGRESS: Downloading http://s3.amazonaws.com/dato-datasets/household_electric_sample.sf/m_c2182265215770ad.frame_idx to /var/tmp/graphlab-matthewkrey/88294/9d3d2afc-50ff-4346-a2de-e5a485b93f34.frame_idx\n",
      "PROGRESS: Downloading http://s3.amazonaws.com/dato-datasets/household_electric_sample.sf/m_c2182265215770ad.sidx to /var/tmp/graphlab-matthewkrey/88294/124080ab-a34d-4de5-bd4a-cb6a3d82bc81.sidx\n"
     ]
    }
   ],
   "source": [
    "import graphlab as gl\n",
    "import datetime as dt \n",
    "\n",
    "household_data = gl.SFrame(\"http://s3.amazonaws.com/dato-datasets/household_electric_sample.sf\")\n"
   ]
  },
  {
   "cell_type": "code",
   "execution_count": 2,
   "metadata": {
    "collapsed": false
   },
   "outputs": [
    {
     "name": "stdout",
     "output_type": "stream",
     "text": [
      "PROGRESS: Downloading http://s3.amazonaws.com/dato-datasets/household_electric_sample.sf/m_c2182265215770ad.0000 to /var/tmp/graphlab-matthewkrey/88294/464b9281-f5d0-4c61-8b38-b7e36d0bbae3.0000\n",
      "+---------------------+---------------------+-----------------------+---------+\n",
      "|       DateTime      | Global_active_power | Global_reactive_power | Voltage |\n",
      "+---------------------+---------------------+-----------------------+---------+\n",
      "| 2006-12-16 17:24:00 |        4.216        |         0.418         |  234.84 |\n",
      "| 2006-12-16 17:26:00 |        5.374        |         0.498         |  233.29 |\n",
      "| 2006-12-16 17:28:00 |        3.666        |         0.528         |  235.68 |\n",
      "| 2006-12-16 17:29:00 |         3.52        |         0.522         |  235.02 |\n",
      "| 2006-12-16 17:31:00 |         3.7         |          0.52         |  235.22 |\n",
      "| 2006-12-16 17:32:00 |        3.668        |          0.51         |  233.99 |\n",
      "| 2006-12-16 17:40:00 |         3.27        |         0.152         |  236.73 |\n",
      "| 2006-12-16 17:43:00 |        3.728        |          0.0          |  235.84 |\n",
      "| 2006-12-16 17:44:00 |        5.894        |          0.0          |  232.69 |\n",
      "| 2006-12-16 17:46:00 |        7.026        |          0.0          |  232.21 |\n",
      "+---------------------+---------------------+-----------------------+---------+\n",
      "[1025260 rows x 4 columns]\n",
      "Note: Only the head of the TimeSeries is printed.\n",
      "You can use print_rows(num_rows=m, num_columns=n) to print more rows and columns.\n",
      "The index column of the TimeSeries is: DateTime\n"
     ]
    }
   ],
   "source": [
    "# First Time Series with Dato \n",
    "\n",
    "household_ts = gl.TimeSeries(household_data, index=\"DateTime\")\n",
    "print household_ts "
   ]
  },
  {
   "cell_type": "code",
   "execution_count": 3,
   "metadata": {
    "collapsed": false
   },
   "outputs": [
    {
     "name": "stdout",
     "output_type": "stream",
     "text": [
      "+---------------------+---------------------+-----------------------+---------+\n",
      "|       DateTime      | Global_active_power | Global_reactive_power | Voltage |\n",
      "+---------------------+---------------------+-----------------------+---------+\n",
      "| 2006-12-16 17:24:00 |        4.216        |         0.418         |  234.84 |\n",
      "| 2006-12-16 17:26:00 |        5.374        |         0.498         |  233.29 |\n",
      "| 2006-12-16 17:28:00 |        3.666        |         0.528         |  235.68 |\n",
      "| 2006-12-16 17:29:00 |         3.52        |         0.522         |  235.02 |\n",
      "| 2006-12-16 17:31:00 |         3.7         |          0.52         |  235.22 |\n",
      "| 2006-12-16 17:32:00 |        3.668        |          0.51         |  233.99 |\n",
      "| 2006-12-16 17:40:00 |         3.27        |         0.152         |  236.73 |\n",
      "| 2006-12-16 17:43:00 |        3.728        |          0.0          |  235.84 |\n",
      "| 2006-12-16 17:44:00 |        5.894        |          0.0          |  232.69 |\n",
      "| 2006-12-16 17:46:00 |        7.026        |          0.0          |  232.21 |\n",
      "+---------------------+---------------------+-----------------------+---------+\n",
      "[1025260 rows x 4 columns]\n",
      "Note: Only the head of the SFrame is printed.\n",
      "You can use print_rows(num_rows=m, num_columns=n) to print more rows and columns.\n"
     ]
    }
   ],
   "source": [
    "sf = household_ts.to_sframe()\n",
    "print sf"
   ]
  },
  {
   "cell_type": "code",
   "execution_count": 4,
   "metadata": {
    "collapsed": false
   },
   "outputs": [
    {
     "name": "stdout",
     "output_type": "stream",
     "text": [
      "+---------------------+---------------------+-----------------------+\n",
      "|       DateTime      | Global_active_power | Global_reactive_power |\n",
      "+---------------------+---------------------+-----------------------+\n",
      "| 2006-12-16 17:24:00 |        4.216        |         0.418         |\n",
      "| 2006-12-16 17:26:00 |        5.374        |         0.498         |\n",
      "| 2006-12-16 17:28:00 |        3.666        |         0.528         |\n",
      "| 2006-12-16 17:29:00 |         3.52        |         0.522         |\n",
      "| 2006-12-16 17:31:00 |         3.7         |          0.52         |\n",
      "| 2006-12-16 17:32:00 |        3.668        |          0.51         |\n",
      "| 2006-12-16 17:40:00 |         3.27        |         0.152         |\n",
      "| 2006-12-16 17:43:00 |        3.728        |          0.0          |\n",
      "| 2006-12-16 17:44:00 |        5.894        |          0.0          |\n",
      "| 2006-12-16 17:46:00 |        7.026        |          0.0          |\n",
      "+---------------------+---------------------+-----------------------+\n",
      "[1025260 rows x 3 columns]\n",
      "Note: Only the head of the TimeSeries is printed.\n",
      "You can use print_rows(num_rows=m, num_columns=n) to print more rows and columns.\n",
      "The index column of the TimeSeries is: DateTime\n"
     ]
    }
   ],
   "source": [
    "ts_power = household_ts[['Global_active_power', 'Global_reactive_power']]\n",
    "print ts_power"
   ]
  },
  {
   "cell_type": "code",
   "execution_count": 5,
   "metadata": {
    "collapsed": false
   },
   "outputs": [
    {
     "name": "stdout",
     "output_type": "stream",
     "text": [
      "+---------------------+---------------------+-----------------------+---------+\n",
      "|       DateTime      | Global_active_power | Global_reactive_power | Voltage |\n",
      "+---------------------+---------------------+-----------------------+---------+\n",
      "| 2006-12-16 00:00:00 |        7.026        |         0.528         |  243.73 |\n",
      "| 2006-12-17 00:00:00 |         6.58        |         0.582         |  249.07 |\n",
      "| 2006-12-18 00:00:00 |        5.436        |         0.646         |  248.48 |\n",
      "| 2006-12-19 00:00:00 |         7.84        |         0.606         |  248.89 |\n",
      "| 2006-12-20 00:00:00 |        5.988        |         0.482         |  249.48 |\n",
      "| 2006-12-21 00:00:00 |        5.614        |         0.688         |  247.08 |\n",
      "| 2006-12-22 00:00:00 |        7.884        |         0.622         |  248.82 |\n",
      "| 2006-12-23 00:00:00 |        8.698        |         0.724         |  246.77 |\n",
      "| 2006-12-24 00:00:00 |        6.498        |         0.494         |  249.27 |\n",
      "| 2006-12-25 00:00:00 |        6.702        |          0.7          |  250.62 |\n",
      "+---------------------+---------------------+-----------------------+---------+\n",
      "[1442 rows x 4 columns]\n",
      "Note: Only the head of the TimeSeries is printed.\n",
      "You can use print_rows(num_rows=m, num_columns=n) to print more rows and columns.\n",
      "The index column of the TimeSeries is: DateTime\n"
     ]
    }
   ],
   "source": [
    "# Resampling \n",
    "# Observations required to be over a uniform time intervals \n",
    "\n",
    "day = dt.timedelta(days = 1)\n",
    "daily_ts = household_ts.resample(day, downsample_method='max', upsample_method=None)\n",
    "print daily_ts"
   ]
  },
  {
   "cell_type": "code",
   "execution_count": 7,
   "metadata": {
    "collapsed": false
   },
   "outputs": [
    {
     "name": "stdout",
     "output_type": "stream",
     "text": [
      "+---------------------+---------------------+-----------------------+---------+\n",
      "|       DateTime      | Global_active_power | Global_reactive_power | Voltage |\n",
      "+---------------------+---------------------+-----------------------+---------+\n",
      "| 2006-12-16 18:24:00 |        4.216        |         0.418         |  234.84 |\n",
      "| 2006-12-16 18:26:00 |        5.374        |         0.498         |  233.29 |\n",
      "| 2006-12-16 18:28:00 |        3.666        |         0.528         |  235.68 |\n",
      "| 2006-12-16 18:29:00 |         3.52        |         0.522         |  235.02 |\n",
      "| 2006-12-16 18:31:00 |         3.7         |          0.52         |  235.22 |\n",
      "| 2006-12-16 18:32:00 |        3.668        |          0.51         |  233.99 |\n",
      "| 2006-12-16 18:40:00 |         3.27        |         0.152         |  236.73 |\n",
      "| 2006-12-16 18:43:00 |        3.728        |          0.0          |  235.84 |\n",
      "| 2006-12-16 18:44:00 |        5.894        |          0.0          |  232.69 |\n",
      "| 2006-12-16 18:46:00 |        7.026        |          0.0          |  232.21 |\n",
      "+---------------------+---------------------+-----------------------+---------+\n",
      "[1025260 rows x 4 columns]\n",
      "Note: Only the head of the TimeSeries is printed.\n",
      "You can use print_rows(num_rows=m, num_columns=n) to print more rows and columns.\n",
      "The index column of the TimeSeries is: DateTime\n"
     ]
    }
   ],
   "source": [
    "interval = dt.timedelta(hours = 1)\n",
    "shifted_ts = household_ts.tshift(interval)\n",
    "\n",
    "print shifted_ts"
   ]
  },
  {
   "cell_type": "code",
   "execution_count": 8,
   "metadata": {
    "collapsed": false
   },
   "outputs": [
    {
     "ename": "TypeError",
     "evalue": "tshift() got an unexpected keyword argument 'steps'",
     "output_type": "error",
     "traceback": [
      "\u001b[0;31m---------------------------------------------------------------------------\u001b[0m",
      "\u001b[0;31mTypeError\u001b[0m                                 Traceback (most recent call last)",
      "\u001b[0;32m<ipython-input-8-2a09242ed0da>\u001b[0m in \u001b[0;36m<module>\u001b[0;34m()\u001b[0m\n\u001b[0;32m----> 1\u001b[0;31m \u001b[0mshifted_ts\u001b[0m \u001b[0;34m=\u001b[0m \u001b[0mhousehold_ts\u001b[0m\u001b[0;34m.\u001b[0m\u001b[0mtshift\u001b[0m\u001b[0;34m(\u001b[0m\u001b[0msteps\u001b[0m \u001b[0;34m=\u001b[0m \u001b[0;36m3\u001b[0m\u001b[0;34m)\u001b[0m\u001b[0;34m\u001b[0m\u001b[0m\n\u001b[0m\u001b[1;32m      2\u001b[0m \u001b[0;34m\u001b[0m\u001b[0m\n\u001b[1;32m      3\u001b[0m \u001b[0;32mprint\u001b[0m \u001b[0mshifted_ts\u001b[0m\u001b[0;34m\u001b[0m\u001b[0m\n",
      "\u001b[0;31mTypeError\u001b[0m: tshift() got an unexpected keyword argument 'steps'"
     ]
    }
   ],
   "source": [
    "shifted_ts = household_ts.shift(steps = 3)\n",
    "\n",
    "print shifted_ts"
   ]
  },
  {
   "cell_type": "code",
   "execution_count": null,
   "metadata": {
    "collapsed": true
   },
   "outputs": [],
   "source": []
  }
 ],
 "metadata": {
  "kernelspec": {
   "display_name": "Python 2",
   "language": "python",
   "name": "python2"
  },
  "language_info": {
   "codemirror_mode": {
    "name": "ipython",
    "version": 2
   },
   "file_extension": ".py",
   "mimetype": "text/x-python",
   "name": "python",
   "nbconvert_exporter": "python",
   "pygments_lexer": "ipython2",
   "version": "2.7.11"
  }
 },
 "nbformat": 4,
 "nbformat_minor": 0
}
