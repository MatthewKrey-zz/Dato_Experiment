{
 "cells": [
  {
   "cell_type": "code",
   "execution_count": 1,
   "metadata": {
    "collapsed": false
   },
   "outputs": [
    {
     "name": "stderr",
     "output_type": "stream",
     "text": [
      "[INFO] \u001b[1;32m1451248736 : INFO:     (initialize_globals_from_environment:282): Setting configuration variable GRAPHLAB_FILEIO_ALTERNATIVE_SSL_CERT_FILE to /Users/matthewkrey/anaconda2/envs/dato-env/lib/python2.7/site-packages/certifi/cacert.pem\n",
      "\u001b[0m\u001b[1;32m1451248736 : INFO:     (initialize_globals_from_environment:282): Setting configuration variable GRAPHLAB_FILEIO_ALTERNATIVE_SSL_CERT_DIR to \n",
      "\u001b[0mThis non-commercial license of GraphLab Create is assigned to matthew.krey@flatironschool.com and will expire on December 14, 2016. For commercial licensing options, visit https://dato.com/buy/.\n",
      "\n",
      "[INFO] Start server at: ipc:///tmp/graphlab_server-88917 - Server binary: /Users/matthewkrey/anaconda2/envs/dato-env/lib/python2.7/site-packages/graphlab/unity_server - Server log: /tmp/graphlab_server_1451248736.log\n",
      "[INFO] GraphLab Server Version: 1.7.1\n"
     ]
    },
    {
     "name": "stdout",
     "output_type": "stream",
     "text": [
      "PROGRESS: Downloading http://s3.amazonaws.com/dato-datasets/household_electric_sample.sf/dir_archive.ini to /var/tmp/graphlab-matthewkrey/88917/4e5bed2a-5e2e-480f-94f5-22c057f87a93.ini\n",
      "PROGRESS: Downloading http://s3.amazonaws.com/dato-datasets/household_electric_sample.sf/objects.bin to /var/tmp/graphlab-matthewkrey/88917/dbe8ff40-8d77-4a5a-98bc-d88b71dea9ee.bin\n",
      "PROGRESS: Downloading http://s3.amazonaws.com/dato-datasets/household_electric_sample.sf/m_c2182265215770ad.frame_idx to /var/tmp/graphlab-matthewkrey/88917/2fc7bcce-7b45-4a20-8cd5-a1713c0254b3.frame_idx\n",
      "PROGRESS: Downloading http://s3.amazonaws.com/dato-datasets/household_electric_sample.sf/m_c2182265215770ad.sidx to /var/tmp/graphlab-matthewkrey/88917/21668c91-4d65-4c89-bd02-73cba8826fb7.sidx\n"
     ]
    }
   ],
   "source": [
    "import graphlab as gl\n",
    "import datetime as dt \n",
    "\n",
    "household_data = gl.SFrame(\"http://s3.amazonaws.com/dato-datasets/household_electric_sample.sf\")\n"
   ]
  },
  {
   "cell_type": "code",
   "execution_count": 2,
   "metadata": {
    "collapsed": false
   },
   "outputs": [
    {
     "name": "stdout",
     "output_type": "stream",
     "text": [
      "PROGRESS: Downloading http://s3.amazonaws.com/dato-datasets/household_electric_sample.sf/m_c2182265215770ad.0000 to /var/tmp/graphlab-matthewkrey/88917/d3fe0e9a-e45f-4c37-9ae6-bdc5c5367c13.0000\n",
      "+---------------------+---------------------+-----------------------+---------+\n",
      "|       DateTime      | Global_active_power | Global_reactive_power | Voltage |\n",
      "+---------------------+---------------------+-----------------------+---------+\n",
      "| 2006-12-16 17:24:00 |        4.216        |         0.418         |  234.84 |\n",
      "| 2006-12-16 17:26:00 |        5.374        |         0.498         |  233.29 |\n",
      "| 2006-12-16 17:28:00 |        3.666        |         0.528         |  235.68 |\n",
      "| 2006-12-16 17:29:00 |         3.52        |         0.522         |  235.02 |\n",
      "| 2006-12-16 17:31:00 |         3.7         |          0.52         |  235.22 |\n",
      "| 2006-12-16 17:32:00 |        3.668        |          0.51         |  233.99 |\n",
      "| 2006-12-16 17:40:00 |         3.27        |         0.152         |  236.73 |\n",
      "| 2006-12-16 17:43:00 |        3.728        |          0.0          |  235.84 |\n",
      "| 2006-12-16 17:44:00 |        5.894        |          0.0          |  232.69 |\n",
      "| 2006-12-16 17:46:00 |        7.026        |          0.0          |  232.21 |\n",
      "+---------------------+---------------------+-----------------------+---------+\n",
      "[1025260 rows x 4 columns]\n",
      "Note: Only the head of the TimeSeries is printed.\n",
      "You can use print_rows(num_rows=m, num_columns=n) to print more rows and columns.\n",
      "The index column of the TimeSeries is: DateTime\n"
     ]
    }
   ],
   "source": [
    "# First Time Series with Dato \n",
    "\n",
    "household_ts = gl.TimeSeries(household_data, index=\"DateTime\")\n",
    "print household_ts "
   ]
  },
  {
   "cell_type": "code",
   "execution_count": 3,
   "metadata": {
    "collapsed": false
   },
   "outputs": [
    {
     "name": "stdout",
     "output_type": "stream",
     "text": [
      "+---------------------+---------------------+-----------------------+---------+\n",
      "|       DateTime      | Global_active_power | Global_reactive_power | Voltage |\n",
      "+---------------------+---------------------+-----------------------+---------+\n",
      "| 2006-12-16 17:24:00 |        4.216        |         0.418         |  234.84 |\n",
      "| 2006-12-16 17:26:00 |        5.374        |         0.498         |  233.29 |\n",
      "| 2006-12-16 17:28:00 |        3.666        |         0.528         |  235.68 |\n",
      "| 2006-12-16 17:29:00 |         3.52        |         0.522         |  235.02 |\n",
      "| 2006-12-16 17:31:00 |         3.7         |          0.52         |  235.22 |\n",
      "| 2006-12-16 17:32:00 |        3.668        |          0.51         |  233.99 |\n",
      "| 2006-12-16 17:40:00 |         3.27        |         0.152         |  236.73 |\n",
      "| 2006-12-16 17:43:00 |        3.728        |          0.0          |  235.84 |\n",
      "| 2006-12-16 17:44:00 |        5.894        |          0.0          |  232.69 |\n",
      "| 2006-12-16 17:46:00 |        7.026        |          0.0          |  232.21 |\n",
      "+---------------------+---------------------+-----------------------+---------+\n",
      "[1025260 rows x 4 columns]\n",
      "Note: Only the head of the SFrame is printed.\n",
      "You can use print_rows(num_rows=m, num_columns=n) to print more rows and columns.\n"
     ]
    }
   ],
   "source": [
    "sf = household_ts.to_sframe()\n",
    "print sf"
   ]
  },
  {
   "cell_type": "code",
   "execution_count": 4,
   "metadata": {
    "collapsed": false
   },
   "outputs": [
    {
     "name": "stdout",
     "output_type": "stream",
     "text": [
      "+---------------------+---------------------+-----------------------+\n",
      "|       DateTime      | Global_active_power | Global_reactive_power |\n",
      "+---------------------+---------------------+-----------------------+\n",
      "| 2006-12-16 17:24:00 |        4.216        |         0.418         |\n",
      "| 2006-12-16 17:26:00 |        5.374        |         0.498         |\n",
      "| 2006-12-16 17:28:00 |        3.666        |         0.528         |\n",
      "| 2006-12-16 17:29:00 |         3.52        |         0.522         |\n",
      "| 2006-12-16 17:31:00 |         3.7         |          0.52         |\n",
      "| 2006-12-16 17:32:00 |        3.668        |          0.51         |\n",
      "| 2006-12-16 17:40:00 |         3.27        |         0.152         |\n",
      "| 2006-12-16 17:43:00 |        3.728        |          0.0          |\n",
      "| 2006-12-16 17:44:00 |        5.894        |          0.0          |\n",
      "| 2006-12-16 17:46:00 |        7.026        |          0.0          |\n",
      "+---------------------+---------------------+-----------------------+\n",
      "[1025260 rows x 3 columns]\n",
      "Note: Only the head of the TimeSeries is printed.\n",
      "You can use print_rows(num_rows=m, num_columns=n) to print more rows and columns.\n",
      "The index column of the TimeSeries is: DateTime\n"
     ]
    }
   ],
   "source": [
    "ts_power = household_ts[['Global_active_power', 'Global_reactive_power']]\n",
    "print ts_power"
   ]
  },
  {
   "cell_type": "code",
   "execution_count": 5,
   "metadata": {
    "collapsed": false
   },
   "outputs": [
    {
     "name": "stdout",
     "output_type": "stream",
     "text": [
      "+---------------------+---------------------+-----------------------+---------+\n",
      "|       DateTime      | Global_active_power | Global_reactive_power | Voltage |\n",
      "+---------------------+---------------------+-----------------------+---------+\n",
      "| 2006-12-16 00:00:00 |        7.026        |         0.528         |  243.73 |\n",
      "| 2006-12-17 00:00:00 |         6.58        |         0.582         |  249.07 |\n",
      "| 2006-12-18 00:00:00 |        5.436        |         0.646         |  248.48 |\n",
      "| 2006-12-19 00:00:00 |         7.84        |         0.606         |  248.89 |\n",
      "| 2006-12-20 00:00:00 |        5.988        |         0.482         |  249.48 |\n",
      "| 2006-12-21 00:00:00 |        5.614        |         0.688         |  247.08 |\n",
      "| 2006-12-22 00:00:00 |        7.884        |         0.622         |  248.82 |\n",
      "| 2006-12-23 00:00:00 |        8.698        |         0.724         |  246.77 |\n",
      "| 2006-12-24 00:00:00 |        6.498        |         0.494         |  249.27 |\n",
      "| 2006-12-25 00:00:00 |        6.702        |          0.7          |  250.62 |\n",
      "+---------------------+---------------------+-----------------------+---------+\n",
      "[1442 rows x 4 columns]\n",
      "Note: Only the head of the TimeSeries is printed.\n",
      "You can use print_rows(num_rows=m, num_columns=n) to print more rows and columns.\n",
      "The index column of the TimeSeries is: DateTime\n"
     ]
    }
   ],
   "source": [
    "# Resampling \n",
    "# Observations required to be over a uniform time intervals \n",
    "\n",
    "day = dt.timedelta(days = 1)\n",
    "daily_ts = household_ts.resample(day, downsample_method='max', upsample_method=None)\n",
    "print daily_ts"
   ]
  },
  {
   "cell_type": "code",
   "execution_count": 6,
   "metadata": {
    "collapsed": false
   },
   "outputs": [
    {
     "name": "stdout",
     "output_type": "stream",
     "text": [
      "+---------------------+---------------------+-----------------------+---------+\n",
      "|       DateTime      | Global_active_power | Global_reactive_power | Voltage |\n",
      "+---------------------+---------------------+-----------------------+---------+\n",
      "| 2006-12-16 18:24:00 |        4.216        |         0.418         |  234.84 |\n",
      "| 2006-12-16 18:26:00 |        5.374        |         0.498         |  233.29 |\n",
      "| 2006-12-16 18:28:00 |        3.666        |         0.528         |  235.68 |\n",
      "| 2006-12-16 18:29:00 |         3.52        |         0.522         |  235.02 |\n",
      "| 2006-12-16 18:31:00 |         3.7         |          0.52         |  235.22 |\n",
      "| 2006-12-16 18:32:00 |        3.668        |          0.51         |  233.99 |\n",
      "| 2006-12-16 18:40:00 |         3.27        |         0.152         |  236.73 |\n",
      "| 2006-12-16 18:43:00 |        3.728        |          0.0          |  235.84 |\n",
      "| 2006-12-16 18:44:00 |        5.894        |          0.0          |  232.69 |\n",
      "| 2006-12-16 18:46:00 |        7.026        |          0.0          |  232.21 |\n",
      "+---------------------+---------------------+-----------------------+---------+\n",
      "[1025260 rows x 4 columns]\n",
      "Note: Only the head of the TimeSeries is printed.\n",
      "You can use print_rows(num_rows=m, num_columns=n) to print more rows and columns.\n",
      "The index column of the TimeSeries is: DateTime\n"
     ]
    }
   ],
   "source": [
    "interval = dt.timedelta(hours = 1)\n",
    "shifted_ts = household_ts.tshift(interval)\n",
    "\n",
    "print shifted_ts"
   ]
  },
  {
   "cell_type": "code",
   "execution_count": 7,
   "metadata": {
    "collapsed": false
   },
   "outputs": [
    {
     "name": "stdout",
     "output_type": "stream",
     "text": [
      "+---------------------+---------------------+-----------------------+---------+\n",
      "|       DateTime      | Global_active_power | Global_reactive_power | Voltage |\n",
      "+---------------------+---------------------+-----------------------+---------+\n",
      "| 2006-12-16 17:24:00 |         None        |          None         |   None  |\n",
      "| 2006-12-16 17:26:00 |         None        |          None         |   None  |\n",
      "| 2006-12-16 17:28:00 |         None        |          None         |   None  |\n",
      "| 2006-12-16 17:29:00 |        4.216        |         0.418         |  234.84 |\n",
      "| 2006-12-16 17:31:00 |        5.374        |         0.498         |  233.29 |\n",
      "| 2006-12-16 17:32:00 |        3.666        |         0.528         |  235.68 |\n",
      "| 2006-12-16 17:40:00 |         3.52        |         0.522         |  235.02 |\n",
      "| 2006-12-16 17:43:00 |         3.7         |          0.52         |  235.22 |\n",
      "| 2006-12-16 17:44:00 |        3.668        |          0.51         |  233.99 |\n",
      "| 2006-12-16 17:46:00 |         3.27        |         0.152         |  236.73 |\n",
      "+---------------------+---------------------+-----------------------+---------+\n",
      "[1025260 rows x 4 columns]\n",
      "Note: Only the head of the TimeSeries is printed.\n",
      "You can use print_rows(num_rows=m, num_columns=n) to print more rows and columns.\n",
      "The index column of the TimeSeries is: DateTime\n"
     ]
    }
   ],
   "source": [
    "shifted_ts = household_ts.shift(steps = 3)\n",
    "\n",
    "print shifted_ts"
   ]
  },
  {
   "cell_type": "code",
   "execution_count": 8,
   "metadata": {
    "collapsed": false
   },
   "outputs": [
    {
     "name": "stdout",
     "output_type": "stream",
     "text": [
      "PROGRESS: Downloading http://s3.amazonaws.com/dato-datasets/household_electric_sample_2.sf/dir_archive.ini to /var/tmp/graphlab-matthewkrey/88917/277268b2-a2ad-44eb-ad9f-d56cf771fd1d.ini\n",
      "PROGRESS: Downloading http://s3.amazonaws.com/dato-datasets/household_electric_sample_2.sf/objects.bin to /var/tmp/graphlab-matthewkrey/88917/a337da57-0235-4310-a23a-da5c52b27b86.bin\n",
      "PROGRESS: Downloading http://s3.amazonaws.com/dato-datasets/household_electric_sample_2.sf/m_5ca05bb8bea99b43.frame_idx to /var/tmp/graphlab-matthewkrey/88917/fb3af9fa-2924-4e26-b582-a15136abe6df.frame_idx\n",
      "PROGRESS: Downloading http://s3.amazonaws.com/dato-datasets/household_electric_sample_2.sf/m_5ca05bb8bea99b43.sidx to /var/tmp/graphlab-matthewkrey/88917/6f407181-29f1-48bb-8656-070526ebd0ed.sidx\n",
      "PROGRESS: Downloading http://s3.amazonaws.com/dato-datasets/household_electric_sample_2.sf/m_5ca05bb8bea99b43.0000 to /var/tmp/graphlab-matthewkrey/88917/7218de9e-016e-41e9-bbc0-73d6875aa1da.0000\n"
     ]
    },
    {
     "data": {
      "text/plain": [
       "+---------------------+---------------------+-----------------------+---------+\n",
       "|       DateTime      | Global_active_power | Global_reactive_power | Voltage |\n",
       "+---------------------+---------------------+-----------------------+---------+\n",
       "| 2006-12-16 17:24:00 |        4.216        |         0.418         |  234.84 |\n",
       "| 2006-12-16 17:26:00 |        5.374        |         0.498         |  233.29 |\n",
       "| 2006-12-16 17:28:00 |        3.666        |         0.528         |  235.68 |\n",
       "| 2006-12-16 17:29:00 |         3.52        |         0.522         |  235.02 |\n",
       "| 2006-12-16 17:31:00 |         3.7         |          0.52         |  235.22 |\n",
       "| 2006-12-16 17:32:00 |        3.668        |          0.51         |  233.99 |\n",
       "| 2006-12-16 17:40:00 |         3.27        |         0.152         |  236.73 |\n",
       "| 2006-12-16 17:43:00 |        3.728        |          0.0          |  235.84 |\n",
       "| 2006-12-16 17:44:00 |        5.894        |          0.0          |  232.69 |\n",
       "| 2006-12-16 17:46:00 |        7.026        |          0.0          |  232.21 |\n",
       "+---------------------+---------------------+-----------------------+---------+\n",
       "+------------------+\n",
       "| Global_intensity |\n",
       "+------------------+\n",
       "|       18.4       |\n",
       "|       23.0       |\n",
       "|       15.8       |\n",
       "|       15.0       |\n",
       "|       15.8       |\n",
       "|       15.8       |\n",
       "|       13.8       |\n",
       "|       16.4       |\n",
       "|       25.4       |\n",
       "|       30.6       |\n",
       "+------------------+\n",
       "[1025260 rows x 5 columns]\n",
       "Note: Only the head of the TimeSeries is printed.\n",
       "You can use print_rows(num_rows=m, num_columns=n) to print more rows and columns.\n",
       "The index column of the TimeSeries is: DateTime"
      ]
     },
     "execution_count": 8,
     "metadata": {},
     "output_type": "execute_result"
    }
   ],
   "source": [
    "sf_other =gl.SFrame('http://s3.amazonaws.com/dato-datasets/household_electric_sample_2.sf')\n",
    "ts_other = gl.TimeSeries(sf_other, index = 'DateTime')\n",
    "\n",
    "household_ts.index_join(ts_other, how = 'inner')"
   ]
  },
  {
   "cell_type": "code",
   "execution_count": 13,
   "metadata": {
    "collapsed": false
   },
   "outputs": [
    {
     "name": "stdout",
     "output_type": "stream",
     "text": [
      "+---------------------+---------------------+-----------------------+---------+\n",
      "|       DateTime      | Global_active_power | Global_reactive_power | Voltage |\n",
      "+---------------------+---------------------+-----------------------+---------+\n",
      "| 2006-12-16 17:24:00 |        4.216        |         0.418         |  234.84 |\n",
      "| 2006-12-16 17:26:00 |        5.374        |         0.498         |  233.29 |\n",
      "| 2006-12-16 17:28:00 |        3.666        |         0.528         |  235.68 |\n",
      "| 2006-12-16 17:29:00 |         3.52        |         0.522         |  235.02 |\n",
      "| 2006-12-16 17:31:00 |         3.7         |          0.52         |  235.22 |\n",
      "| 2006-12-16 17:32:00 |        3.668        |          0.51         |  233.99 |\n",
      "| 2006-12-16 17:40:00 |         3.27        |         0.152         |  236.73 |\n",
      "| 2006-12-16 17:43:00 |        3.728        |          0.0          |  235.84 |\n",
      "| 2006-12-16 17:44:00 |        5.894        |          0.0          |  232.69 |\n",
      "| 2006-12-16 17:46:00 |        7.026        |          0.0          |  232.21 |\n",
      "+---------------------+---------------------+-----------------------+---------+\n",
      "[246363 rows x 4 columns]\n",
      "Note: Only the head of the TimeSeries is printed.\n",
      "You can use print_rows(num_rows=m, num_columns=n) to print more rows and columns.\n",
      "The index column of the TimeSeries is: DateTime\n"
     ]
    }
   ],
   "source": [
    "# Time Series Slicing \n",
    "\n",
    "start_time, end_time = household_ts.range\n",
    "#(datetime.datetime(2006, 12, 16, 17, 24), datetime.datetime(2007, 11, 26, 20, 57))\n",
    "\n",
    "start = dt.datetime(2006, 12, 16, 17, 24)\n",
    "end = dt.datetime(2007, 11, 26, 21, 2)\n",
    "\n",
    "sliced_ts = household_ts.slice(start, end)\n",
    "print sliced_ts"
   ]
  },
  {
   "cell_type": "code",
   "execution_count": 15,
   "metadata": {
    "collapsed": false
   },
   "outputs": [
    {
     "name": "stdout",
     "output_type": "stream",
     "text": [
      "+---------------------+---------------------+-----------------------+---------+\n",
      "|       DateTime      | Global_active_power | Global_reactive_power | Voltage |\n",
      "+---------------------+---------------------+-----------------------+---------+\n",
      "| 2010-01-01 00:00:00 |         1.79        |         0.236         |  240.65 |\n",
      "| 2010-01-01 00:01:00 |         1.78        |         0.234         |  240.07 |\n",
      "| 2010-01-01 00:03:00 |        1.746        |         0.186         |  240.26 |\n",
      "| 2010-01-01 00:06:00 |         1.68        |          0.1          |  239.72 |\n",
      "| 2010-01-01 00:07:00 |        1.688        |         0.102         |  240.34 |\n",
      "| 2010-01-01 00:08:00 |        1.676        |         0.072         |  241.0  |\n",
      "| 2010-01-01 00:11:00 |        1.618        |          0.0          |  240.11 |\n",
      "| 2010-01-01 00:13:00 |        1.618        |          0.0          |  240.09 |\n",
      "| 2010-01-01 00:14:00 |        1.622        |          0.0          |  240.38 |\n",
      "| 2010-01-01 00:15:00 |        1.622        |          0.0          |  240.4  |\n",
      "+---------------------+---------------------+-----------------------+---------+\n",
      "[229027 rows x 4 columns]\n",
      "Note: Only the head of the TimeSeries is printed.\n",
      "You can use print_rows(num_rows=m, num_columns=n) to print more rows and columns.\n",
      "The index column of the TimeSeries is: DateTime\n"
     ]
    }
   ],
   "source": [
    "start = dt.datetime(2010, 1, 1)\n",
    "end = dt.datetime(2011, 1, 1)\n",
    "ts_2010 = household_ts.slice(start, end) \n",
    "\n",
    "print ts_2010"
   ]
  },
  {
   "cell_type": "code",
   "execution_count": 16,
   "metadata": {
    "collapsed": false
   },
   "outputs": [
    {
     "name": "stdout",
     "output_type": "stream",
     "text": [
      "[0, 1, 2, 3, 4, 5, 6]\n"
     ]
    }
   ],
   "source": [
    "# Time series grouping\n",
    "\n",
    "household_ts_groups = household_ts.group(gl.TimeSeries.date_part.WEEKDAY)\n",
    "print household_ts_groups.groups()"
   ]
  },
  {
   "cell_type": "code",
   "execution_count": 19,
   "metadata": {
    "collapsed": false
   },
   "outputs": [
    {
     "name": "stdout",
     "output_type": "stream",
     "text": [
      "0 +---------------------+---------------------+-----------------------+---------+\n",
      "|       DateTime      | Global_active_power | Global_reactive_power | Voltage |\n",
      "+---------------------+---------------------+-----------------------+---------+\n",
      "| 2006-12-18 00:00:00 |        0.278        |         0.126         |  246.17 |\n",
      "| 2006-12-18 00:03:00 |        0.206        |          0.0          |  245.94 |\n",
      "| 2006-12-18 00:04:00 |        0.206        |          0.0          |  245.98 |\n",
      "| 2006-12-18 00:06:00 |        0.204        |          0.0          |  245.22 |\n",
      "| 2006-12-18 00:07:00 |        0.204        |          0.0          |  244.14 |\n",
      "| 2006-12-18 00:08:00 |        0.212        |          0.0          |  244.0  |\n",
      "| 2006-12-18 00:09:00 |        0.316        |         0.134         |  244.62 |\n",
      "| 2006-12-18 00:10:00 |        0.308        |         0.132         |  244.61 |\n",
      "| 2006-12-18 00:11:00 |        0.306        |         0.134         |  244.97 |\n",
      "| 2006-12-18 00:12:00 |        0.306        |         0.136         |  245.51 |\n",
      "+---------------------+---------------------+-----------------------+---------+\n",
      "[146934 rows x 4 columns]\n",
      "Note: Only the head of the TimeSeries is printed.\n",
      "You can use print_rows(num_rows=m, num_columns=n) to print more rows and columns.\n",
      "The index column of the TimeSeries is: DateTime\n",
      "1 +---------------------+---------------------+-----------------------+---------+\n",
      "|       DateTime      | Global_active_power | Global_reactive_power | Voltage |\n",
      "+---------------------+---------------------+-----------------------+---------+\n",
      "| 2006-12-19 00:00:00 |        0.414        |         0.242         |  241.19 |\n",
      "| 2006-12-19 00:03:00 |        0.416        |         0.224         |  242.35 |\n",
      "| 2006-12-19 00:05:00 |         0.41        |          0.22         |  241.96 |\n",
      "| 2006-12-19 00:06:00 |         0.39        |         0.218         |  242.6  |\n",
      "| 2006-12-19 00:08:00 |        0.388        |         0.218         |  242.72 |\n",
      "| 2006-12-19 00:09:00 |        0.406        |         0.226         |  243.45 |\n",
      "| 2006-12-19 00:12:00 |        0.314        |         0.112         |  242.93 |\n",
      "| 2006-12-19 00:14:00 |        0.314        |         0.112         |  242.92 |\n",
      "| 2006-12-19 00:16:00 |        0.296        |         0.084         |  242.73 |\n",
      "| 2006-12-19 00:18:00 |        0.242        |          0.0          |  244.63 |\n",
      "+---------------------+---------------------+-----------------------+---------+\n",
      "[147614 rows x 4 columns]\n",
      "Note: Only the head of the TimeSeries is printed.\n",
      "You can use print_rows(num_rows=m, num_columns=n) to print more rows and columns.\n",
      "The index column of the TimeSeries is: DateTime\n",
      "2 +---------------------+---------------------+-----------------------+---------+\n",
      "|       DateTime      | Global_active_power | Global_reactive_power | Voltage |\n",
      "+---------------------+---------------------+-----------------------+---------+\n",
      "| 2006-12-20 00:01:00 |        0.958        |         0.056         |  244.78 |\n",
      "| 2006-12-20 00:02:00 |        0.974        |         0.062         |  244.74 |\n",
      "| 2006-12-20 00:03:00 |        0.958        |          0.06         |  245.14 |\n",
      "| 2006-12-20 00:05:00 |         1.07        |         0.184         |  245.02 |\n",
      "| 2006-12-20 00:07:00 |         1.06        |         0.198         |  243.7  |\n",
      "| 2006-12-20 00:09:00 |        0.968        |         0.204         |  244.37 |\n",
      "| 2006-12-20 00:10:00 |        1.052        |          0.21         |  243.91 |\n",
      "| 2006-12-20 00:13:00 |        0.526        |         0.148         |  243.86 |\n",
      "| 2006-12-20 00:17:00 |         0.36        |         0.152         |  246.31 |\n",
      "| 2006-12-20 00:19:00 |        0.228        |          0.0          |  246.34 |\n",
      "+---------------------+---------------------+-----------------------+---------+\n",
      "[147344 rows x 4 columns]\n",
      "Note: Only the head of the TimeSeries is printed.\n",
      "You can use print_rows(num_rows=m, num_columns=n) to print more rows and columns.\n",
      "The index column of the TimeSeries is: DateTime\n",
      "3 +---------------------+---------------------+-----------------------+---------+\n",
      "|       DateTime      | Global_active_power | Global_reactive_power | Voltage |\n",
      "+---------------------+---------------------+-----------------------+---------+\n",
      "| 2006-12-21 00:00:00 |        1.814        |         0.148         |  243.51 |\n",
      "| 2006-12-21 00:01:00 |        1.474        |         0.156         |  244.13 |\n",
      "| 2006-12-21 00:04:00 |        1.466        |         0.154         |  243.86 |\n",
      "| 2006-12-21 00:06:00 |        1.402        |          0.15         |  243.12 |\n",
      "| 2006-12-21 00:07:00 |        1.396        |         0.148         |  242.7  |\n",
      "| 2006-12-21 00:09:00 |        1.396        |         0.146         |  242.55 |\n",
      "| 2006-12-21 00:10:00 |        1.398        |         0.148         |  242.78 |\n",
      "| 2006-12-21 00:11:00 |         1.4         |         0.148         |  242.88 |\n",
      "| 2006-12-21 00:14:00 |        1.418        |         0.156         |  244.49 |\n",
      "| 2006-12-21 00:15:00 |        1.396        |         0.148         |  242.69 |\n",
      "+---------------------+---------------------+-----------------------+---------+\n",
      "[146886 rows x 4 columns]\n",
      "Note: Only the head of the TimeSeries is printed.\n",
      "You can use print_rows(num_rows=m, num_columns=n) to print more rows and columns.\n",
      "The index column of the TimeSeries is: DateTime\n",
      "4 +---------------------+---------------------+-----------------------+---------+\n",
      "|       DateTime      | Global_active_power | Global_reactive_power | Voltage |\n",
      "+---------------------+---------------------+-----------------------+---------+\n",
      "| 2006-12-22 00:00:00 |        0.206        |          0.0          |  245.7  |\n",
      "| 2006-12-22 00:04:00 |         0.31        |         0.128         |  244.51 |\n",
      "| 2006-12-22 00:05:00 |        0.308        |          0.13         |  244.8  |\n",
      "| 2006-12-22 00:06:00 |        0.306        |         0.128         |  244.64 |\n",
      "| 2006-12-22 00:07:00 |        0.306        |          0.13         |  245.11 |\n",
      "| 2006-12-22 00:08:00 |        0.306        |         0.132         |  245.38 |\n",
      "| 2006-12-22 00:10:00 |        0.306        |         0.138         |  246.6  |\n",
      "| 2006-12-22 00:12:00 |        0.304        |         0.136         |  246.27 |\n",
      "| 2006-12-22 00:13:00 |        0.304        |          0.14         |  246.99 |\n",
      "| 2006-12-22 00:14:00 |        0.304        |         0.142         |  247.39 |\n",
      "+---------------------+---------------------+-----------------------+---------+\n",
      "[147247 rows x 4 columns]\n",
      "Note: Only the head of the TimeSeries is printed.\n",
      "You can use print_rows(num_rows=m, num_columns=n) to print more rows and columns.\n",
      "The index column of the TimeSeries is: DateTime\n",
      "5 +---------------------+---------------------+-----------------------+---------+\n",
      "|       DateTime      | Global_active_power | Global_reactive_power | Voltage |\n",
      "+---------------------+---------------------+-----------------------+---------+\n",
      "| 2006-12-16 17:24:00 |        4.216        |         0.418         |  234.84 |\n",
      "| 2006-12-16 17:26:00 |        5.374        |         0.498         |  233.29 |\n",
      "| 2006-12-16 17:28:00 |        3.666        |         0.528         |  235.68 |\n",
      "| 2006-12-16 17:29:00 |         3.52        |         0.522         |  235.02 |\n",
      "| 2006-12-16 17:31:00 |         3.7         |          0.52         |  235.22 |\n",
      "| 2006-12-16 17:32:00 |        3.668        |          0.51         |  233.99 |\n",
      "| 2006-12-16 17:40:00 |         3.27        |         0.152         |  236.73 |\n",
      "| 2006-12-16 17:43:00 |        3.728        |          0.0          |  235.84 |\n",
      "| 2006-12-16 17:44:00 |        5.894        |          0.0          |  232.69 |\n",
      "| 2006-12-16 17:46:00 |        7.026        |          0.0          |  232.21 |\n",
      "+---------------------+---------------------+-----------------------+---------+\n",
      "[144362 rows x 4 columns]\n",
      "Note: Only the head of the TimeSeries is printed.\n",
      "You can use print_rows(num_rows=m, num_columns=n) to print more rows and columns.\n",
      "The index column of the TimeSeries is: DateTime\n",
      "6 +---------------------+---------------------+-----------------------+---------+\n",
      "|       DateTime      | Global_active_power | Global_reactive_power | Voltage |\n",
      "+---------------------+---------------------+-----------------------+---------+\n",
      "| 2006-12-17 00:00:00 |        1.044        |         0.152         |  242.73 |\n",
      "| 2006-12-17 00:01:00 |         1.52        |          0.22         |  242.2  |\n",
      "| 2006-12-17 00:04:00 |        2.846        |         0.198         |  240.39 |\n",
      "| 2006-12-17 00:05:00 |        2.848        |         0.198         |  240.59 |\n",
      "| 2006-12-17 00:07:00 |        2.472        |         0.208         |  241.62 |\n",
      "| 2006-12-17 00:09:00 |        0.838        |         0.334         |  242.09 |\n",
      "| 2006-12-17 00:11:00 |        2.598        |         0.296         |  239.44 |\n",
      "| 2006-12-17 00:13:00 |        2.526        |         0.278         |  236.95 |\n",
      "| 2006-12-17 00:14:00 |        2.472        |         0.194         |  237.55 |\n",
      "| 2006-12-17 00:15:00 |        1.658        |         0.166         |  238.48 |\n",
      "+---------------------+---------------------+-----------------------+---------+\n",
      "[144873 rows x 4 columns]\n",
      "Note: Only the head of the TimeSeries is printed.\n",
      "You can use print_rows(num_rows=m, num_columns=n) to print more rows and columns.\n",
      "The index column of the TimeSeries is: DateTime\n"
     ]
    }
   ],
   "source": [
    "household_ts_monday = household_ts_groups.get_group(0)\n",
    "# print household_ts_monday\n",
    "\n",
    "for name, group in household_ts_groups:\n",
    "    print name, group"
   ]
  },
  {
   "cell_type": "code",
   "execution_count": 22,
   "metadata": {
    "collapsed": false
   },
   "outputs": [
    {
     "name": "stdout",
     "output_type": "stream",
     "text": [
      "+---------------------+---------------------+-----------------------+---------+\n",
      "|       DateTime      | Global_active_power | Global_reactive_power | Voltage |\n",
      "+---------------------+---------------------+-----------------------+---------+\n",
      "| 2006-12-18 00:00:00 |        0.278        |         0.126         |  246.17 |\n",
      "| 2006-12-18 00:03:00 |        0.206        |          0.0          |  245.94 |\n",
      "| 2006-12-18 00:04:00 |        0.206        |          0.0          |  245.98 |\n",
      "| 2006-12-18 00:06:00 |        0.204        |          0.0          |  245.22 |\n",
      "| 2006-12-18 00:07:00 |        0.204        |          0.0          |  244.14 |\n",
      "| 2006-12-18 00:08:00 |        0.212        |          0.0          |  244.0  |\n",
      "| 2006-12-18 00:09:00 |        0.316        |         0.134         |  244.62 |\n",
      "| 2006-12-18 00:10:00 |        0.308        |         0.132         |  244.61 |\n",
      "| 2006-12-18 00:11:00 |        0.306        |         0.134         |  244.97 |\n",
      "| 2006-12-18 00:12:00 |        0.306        |         0.136         |  245.51 |\n",
      "+---------------------+---------------------+-----------------------+---------+\n",
      "[294548 rows x 4 columns]\n",
      "Note: Only the head of the TimeSeries is printed.\n",
      "You can use print_rows(num_rows=m, num_columns=n) to print more rows and columns.\n",
      "The index column of the TimeSeries is: DateTime\n",
      "+---------------------+---------------------+-----------------------+---------+\n",
      "|       DateTime      | Global_active_power | Global_reactive_power | Voltage |\n",
      "+---------------------+---------------------+-----------------------+---------+\n",
      "| 2006-12-18 00:00:00 |        0.278        |         0.126         |  246.17 |\n",
      "| 2006-12-18 00:03:00 |        0.206        |          0.0          |  245.94 |\n",
      "| 2006-12-18 00:04:00 |        0.206        |          0.0          |  245.98 |\n",
      "| 2006-12-18 00:06:00 |        0.204        |          0.0          |  245.22 |\n",
      "| 2006-12-18 00:07:00 |        0.204        |          0.0          |  244.14 |\n",
      "| 2006-12-18 00:08:00 |        0.212        |          0.0          |  244.0  |\n",
      "| 2006-12-18 00:09:00 |        0.316        |         0.134         |  244.62 |\n",
      "| 2006-12-18 00:10:00 |        0.308        |         0.132         |  244.61 |\n",
      "| 2006-12-18 00:11:00 |        0.306        |         0.134         |  244.97 |\n",
      "| 2006-12-18 00:12:00 |        0.306        |         0.136         |  245.51 |\n",
      "+---------------------+---------------------+-----------------------+---------+\n",
      "[442162 rows x 4 columns]\n",
      "Note: Only the head of the TimeSeries is printed.\n",
      "You can use print_rows(num_rows=m, num_columns=n) to print more rows and columns.\n",
      "The index column of the TimeSeries is: DateTime\n",
      "+---------------------+---------------------+-----------------------+---------+\n",
      "|       DateTime      | Global_active_power | Global_reactive_power | Voltage |\n",
      "+---------------------+---------------------+-----------------------+---------+\n",
      "| 2006-12-18 00:00:00 |        0.278        |         0.126         |  246.17 |\n",
      "| 2006-12-18 00:03:00 |        0.206        |          0.0          |  245.94 |\n",
      "| 2006-12-18 00:04:00 |        0.206        |          0.0          |  245.98 |\n",
      "| 2006-12-18 00:06:00 |        0.204        |          0.0          |  245.22 |\n",
      "| 2006-12-18 00:07:00 |        0.204        |          0.0          |  244.14 |\n",
      "| 2006-12-18 00:08:00 |        0.212        |          0.0          |  244.0  |\n",
      "| 2006-12-18 00:09:00 |        0.316        |         0.134         |  244.62 |\n",
      "| 2006-12-18 00:10:00 |        0.308        |         0.132         |  244.61 |\n",
      "| 2006-12-18 00:11:00 |        0.306        |         0.134         |  244.97 |\n",
      "| 2006-12-18 00:12:00 |        0.306        |         0.136         |  245.51 |\n",
      "+---------------------+---------------------+-----------------------+---------+\n",
      "[589776 rows x 4 columns]\n",
      "Note: Only the head of the TimeSeries is printed.\n",
      "You can use print_rows(num_rows=m, num_columns=n) to print more rows and columns.\n",
      "The index column of the TimeSeries is: DateTime\n",
      "+---------------------+---------------------+-----------------------+---------+\n",
      "|       DateTime      | Global_active_power | Global_reactive_power | Voltage |\n",
      "+---------------------+---------------------+-----------------------+---------+\n",
      "| 2006-12-18 00:00:00 |        0.278        |         0.126         |  246.17 |\n",
      "| 2006-12-18 00:03:00 |        0.206        |          0.0          |  245.94 |\n",
      "| 2006-12-18 00:04:00 |        0.206        |          0.0          |  245.98 |\n",
      "| 2006-12-18 00:06:00 |        0.204        |          0.0          |  245.22 |\n",
      "| 2006-12-18 00:07:00 |        0.204        |          0.0          |  244.14 |\n",
      "| 2006-12-18 00:08:00 |        0.212        |          0.0          |  244.0  |\n",
      "| 2006-12-18 00:09:00 |        0.316        |         0.134         |  244.62 |\n",
      "| 2006-12-18 00:10:00 |        0.308        |         0.132         |  244.61 |\n",
      "| 2006-12-18 00:11:00 |        0.306        |         0.134         |  244.97 |\n",
      "| 2006-12-18 00:12:00 |        0.306        |         0.136         |  245.51 |\n",
      "+---------------------+---------------------+-----------------------+---------+\n",
      "[737390 rows x 4 columns]\n",
      "Note: Only the head of the TimeSeries is printed.\n",
      "You can use print_rows(num_rows=m, num_columns=n) to print more rows and columns.\n",
      "The index column of the TimeSeries is: DateTime\n",
      "+---------------------+---------------------+-----------------------+---------+\n",
      "|       DateTime      | Global_active_power | Global_reactive_power | Voltage |\n",
      "+---------------------+---------------------+-----------------------+---------+\n",
      "| 2006-12-18 00:00:00 |        0.278        |         0.126         |  246.17 |\n",
      "| 2006-12-18 00:03:00 |        0.206        |          0.0          |  245.94 |\n",
      "| 2006-12-18 00:04:00 |        0.206        |          0.0          |  245.98 |\n",
      "| 2006-12-18 00:06:00 |        0.204        |          0.0          |  245.22 |\n",
      "| 2006-12-18 00:07:00 |        0.204        |          0.0          |  244.14 |\n",
      "| 2006-12-18 00:08:00 |        0.212        |          0.0          |  244.0  |\n",
      "| 2006-12-18 00:09:00 |        0.316        |         0.134         |  244.62 |\n",
      "| 2006-12-18 00:10:00 |        0.308        |         0.132         |  244.61 |\n",
      "| 2006-12-18 00:11:00 |        0.306        |         0.134         |  244.97 |\n",
      "| 2006-12-18 00:12:00 |        0.306        |         0.136         |  245.51 |\n",
      "+---------------------+---------------------+-----------------------+---------+\n",
      "[885004 rows x 4 columns]\n",
      "Note: Only the head of the TimeSeries is printed.\n",
      "You can use print_rows(num_rows=m, num_columns=n) to print more rows and columns.\n",
      "The index column of the TimeSeries is: DateTime\n",
      "+---------------------+---------------------+-----------------------+---------+\n",
      "|       DateTime      | Global_active_power | Global_reactive_power | Voltage |\n",
      "+---------------------+---------------------+-----------------------+---------+\n",
      "| 2006-12-18 00:00:00 |        0.278        |         0.126         |  246.17 |\n",
      "| 2006-12-18 00:03:00 |        0.206        |          0.0          |  245.94 |\n",
      "| 2006-12-18 00:04:00 |        0.206        |          0.0          |  245.98 |\n",
      "| 2006-12-18 00:06:00 |        0.204        |          0.0          |  245.22 |\n",
      "| 2006-12-18 00:07:00 |        0.204        |          0.0          |  244.14 |\n",
      "| 2006-12-18 00:08:00 |        0.212        |          0.0          |  244.0  |\n",
      "| 2006-12-18 00:09:00 |        0.316        |         0.134         |  244.62 |\n",
      "| 2006-12-18 00:10:00 |        0.308        |         0.132         |  244.61 |\n",
      "| 2006-12-18 00:11:00 |        0.306        |         0.134         |  244.97 |\n",
      "| 2006-12-18 00:12:00 |        0.306        |         0.136         |  245.51 |\n",
      "+---------------------+---------------------+-----------------------+---------+\n",
      "[1032618 rows x 4 columns]\n",
      "Note: Only the head of the TimeSeries is printed.\n",
      "You can use print_rows(num_rows=m, num_columns=n) to print more rows and columns.\n",
      "The index column of the TimeSeries is: DateTime\n"
     ]
    }
   ],
   "source": [
    "# Time series union \n",
    "\n",
    "household_ts_combined = household_ts_groups.get_group(0)\n",
    "for i in range(1,7):\n",
    "    group = household_ts_groups.get_group(i)\n",
    "    household_ts_combined = household_ts_combined.union(group)\n",
    "    print household_ts_combined "
   ]
  },
  {
   "cell_type": "code",
   "execution_count": null,
   "metadata": {
    "collapsed": true
   },
   "outputs": [],
   "source": []
  }
 ],
 "metadata": {
  "kernelspec": {
   "display_name": "Python 2",
   "language": "python",
   "name": "python2"
  },
  "language_info": {
   "codemirror_mode": {
    "name": "ipython",
    "version": 2
   },
   "file_extension": ".py",
   "mimetype": "text/x-python",
   "name": "python",
   "nbconvert_exporter": "python",
   "pygments_lexer": "ipython2",
   "version": "2.7.11"
  }
 },
 "nbformat": 4,
 "nbformat_minor": 0
}
