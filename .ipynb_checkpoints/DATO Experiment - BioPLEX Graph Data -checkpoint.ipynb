{
 "cells": [
  {
   "cell_type": "code",
   "execution_count": null,
   "metadata": {
    "collapsed": true
   },
   "outputs": [],
   "source": [
    "\"\"\"\n",
    "Experimenting with graphing Human Proteome. Exploring BioPlex project seen on Twitter at Harvard Medical School.\n",
    "\n",
    "BioPlex Project @ http://wren.hms.harvard.edu/bioplex/index.php\n",
    "Facebook for the Proteome @ http://hms.harvard.edu/news/facebook-proteome\n",
    "\n",
    "\"\"\"\n",
    "\n",
    "import csv \n",
    "import graphlab as gl\n",
    "from graphlab import SGraph, Vertex, Edge\n",
    "\n",
    "# BIOPLEX_DATA = \"/Users/matthewkrey/anaconda2/Datasets/BIOGRID-ALL-3.4.131.tab2.txt\"\n",
    "\n",
    "# Download BioGRID dataset @ http://thebiogrid.org/download.php. Convert .txt to .csv for Dato import \n",
    "txt_file = r\"/Users/matthewkrey/anaconda2/Datasets/BIOGRID-ALL-3.4.131.tab2.txt\"\n",
    "csv_file = r\"/Users/matthewkrey/anaconda2/Datasets/BIOGRID-ALL-3.4.131.csv\"\n",
    "# txt_file = r\"BIOPLEX_DATA\"\n",
    "# csv_file = r\"BIOPLEX_DATA.csv\"\n",
    "\n",
    "bioplex_in_txt = csv.reader(open(txt_file, \"rb\"), delimiter = '\\t')\n",
    "bioplex_out_csv = csv.writer(open(csv_file, \"wb\"))\n",
    "\n",
    "bioplex_data = bioplex_out_csv.writerows(bioplex_in_txt)\n",
    "\n",
    "bioplex_data = gl.SFrame.read_csv('/Users/matthewkrey/anaconda2/Datasets/BIOGRID-ALL-3.4.131.csv') # load .csv into SFrame\n",
    "# bioplex_data = gl.SFrame.read_csv(bioplex_out_csv)\n",
    "subset_bpd = bioplex_data[(bioplex_data['BioGRID ID Interactor A'] <= 1000)]\n",
    "subset_bpd.show()"
   ]
  },
  {
   "cell_type": "code",
   "execution_count": null,
   "metadata": {
    "collapsed": true
   },
   "outputs": [],
   "source": [
    "# Construct BioPlex graph \n",
    "edge_data = subset_bpd\n",
    "edge_graph = SGraph()\n",
    "bioplex_graph = edge_graph.add_edges(edge_data, src_field='Official Symbol Interactor A', dst_field='Official Symbol Interactor B')\n",
    "\n",
    "bpg = bioplex_graph\n",
    "print bpg\n"
   ]
  },
  {
   "cell_type": "code",
   "execution_count": null,
   "metadata": {
    "collapsed": true
   },
   "outputs": [],
   "source": [
    "# Experimenting with graph exploration... this is a very large graph... \n",
    "\n",
    "# targets = ['RGA1', 'PIN4', 'AT2G01970', 'RR14', 'AT2G01680', 'MGT3', 'TX1']\n",
    "targets = ['RGA1'] #'PIN4', 'AT2G01970', 'RR14', 'AT2G01680', 'MGT3', 'TX1']\n",
    "bpg_subgraph = bpg.get_neighborhood(ids=targets, radius=1, full_subgraph=False) # get egocentric neighborhood \n",
    "bpg_subgraph.show(vlabel='id', highlight=['RGA1', 'PIN4'], arrows=True)\n",
    "\n",
    "# print bpg_subgraph.summary()\n",
    "\n",
    "# sub_verts = bioplex_graph.get_vertices(ids='NAB2')\n",
    "# print sub_verts"
   ]
  }
 ],
 "metadata": {
  "kernelspec": {
   "display_name": "Python 2",
   "language": "python",
   "name": "python2"
  },
  "language_info": {
   "codemirror_mode": {
    "name": "ipython",
    "version": 2
   },
   "file_extension": ".py",
   "mimetype": "text/x-python",
   "name": "python",
   "nbconvert_exporter": "python",
   "pygments_lexer": "ipython2",
   "version": "2.7.11"
  }
 },
 "nbformat": 4,
 "nbformat_minor": 0
}
