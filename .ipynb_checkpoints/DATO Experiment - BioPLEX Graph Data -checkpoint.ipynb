{
 "cells": [
  {
   "cell_type": "code",
   "execution_count": 10,
   "metadata": {
    "collapsed": false
   },
   "outputs": [
    {
     "name": "stdout",
     "output_type": "stream",
     "text": [
      "PROGRESS: Finished parsing file /Users/matthewkrey/anaconda2/Datasets/BIOGRID-ALL-3.4.131.csv\n",
      "PROGRESS: Parsing completed. Parsed 100 lines in 0.902438 secs.\n",
      "------------------------------------------------------\n",
      "Inferred types from first line of file as \n",
      "column_type_hints=[int,int,int,int,int,str,str,str,str,str,str,str,str,str,int,int,int,str,str,str,str,str,str,str]\n",
      "If parsing fails due to incorrect types, you can correct\n",
      "the inferred type list above and pass it to read_csv in\n",
      "the column_type_hints argument\n",
      "------------------------------------------------------\n",
      "PROGRESS: Read 178742 lines. Lines per second: 174463\n",
      "PROGRESS: Unable to parse line \"868953,3704128,-,1220045,4349896,C7_02030W_A,C2_04290W_A,HSP90,RIM11,CaO6.7645|CAWG_05553|CaJ7_0234|IPF4596.2|Contig4-3089_0026|IPF20556.1|C7_02030W_B|orf19.13868|orf19_6515|CaO19.6515|CaO19_6515|orf6.7645|CaO19.13868|CA4959|C7_02030W|orf19.6515|CaJ7.0234,...\"\n",
      "PROGRESS: 1 lines failed to parse correctly\n",
      "PROGRESS: Finished parsing file /Users/matthewkrey/anaconda2/Datasets/BIOGRID-ALL-3.4.131.csv\n",
      "PROGRESS: Parsing completed. Parsed 932053 lines in 4.70535 secs.\n",
      "Canvas is updated and available in a tab in the default browser.\n"
     ]
    }
   ],
   "source": [
    "\"\"\"\n",
    "Experimenting with graphing Human Proteome. Exploring BioPlex project seen on Twitter at Harvard Medical School.\n",
    "\n",
    "BioPlex Project @ http://wren.hms.harvard.edu/bioplex/index.php\n",
    "Facebook for the Proteome @ http://hms.harvard.edu/news/facebook-proteome\n",
    "\n",
    "\n",
    "Additional background on Graph Theory @ https://en.wikipedia.org/wiki/Graph_theory\n",
    "\"\"\"\n",
    "\n",
    "import csv \n",
    "import graphlab as gl\n",
    "from graphlab import SGraph, Vertex, Edge\n",
    "\n",
    "# Download BioGRID dataset @ http://thebiogrid.org/download.php. Convert .txt to .csv for Dato import \n",
    "txt_file = r\"/Users/matthewkrey/anaconda2/Datasets/BIOGRID-ALL-3.4.131.tab2.txt\"\n",
    "csv_file = r\"/Users/matthewkrey/anaconda2/Datasets/BIOGRID-ALL-3.4.131.csv\"\n",
    "\n",
    "bioplex_in_txt = csv.reader(open(txt_file, \"rb\"), delimiter = '\\t')\n",
    "bioplex_out_csv = csv.writer(open(csv_file, \"wb\"))\n",
    "\n",
    "bioplex_data = bioplex_out_csv.writerows(bioplex_in_txt)\n",
    "\n",
    "bioplex_data = gl.SFrame.read_csv('/Users/matthewkrey/anaconda2/Datasets/BIOGRID-ALL-3.4.131.csv') # load .csv into SFrame\n",
    "subset_bpd = bioplex_data[(bioplex_data['BioGRID ID Interactor A'] <= 1000)]\n",
    "subset_bpd.show()"
   ]
  },
  {
   "cell_type": "code",
   "execution_count": 11,
   "metadata": {
    "collapsed": false
   },
   "outputs": [
    {
     "name": "stdout",
     "output_type": "stream",
     "text": [
      "SGraph({'num_edges': 812, 'num_vertices': 522})\n"
     ]
    }
   ],
   "source": [
    "# Construct BioPlex graph \n",
    "edge_data = subset_bpd\n",
    "edge_graph = SGraph()\n",
    "bioplex_graph = edge_graph.add_edges(edge_data, src_field='Official Symbol Interactor A', dst_field='Official Symbol Interactor B')\n",
    "\n",
    "bpg = bioplex_graph\n",
    "print bpg\n"
   ]
  },
  {
   "cell_type": "code",
   "execution_count": 23,
   "metadata": {
    "collapsed": false
   },
   "outputs": [
    {
     "name": "stdout",
     "output_type": "stream",
     "text": [
      "Canvas is updated and available in a tab in the default browser.\n"
     ]
    }
   ],
   "source": [
    "# Experimenting with graph exploration... this is a very large graph... \n",
    "\n",
    "# gene targets = ['RGA1', 'PIN4', 'AT2G01970', 'RR14', 'AT2G01680', 'MGT3', 'TX1']\n",
    "\n",
    "target = ['RGA1'] \n",
    "bpg_subgraph = bpg.get_neighborhood(ids=targets, radius=1, full_subgraph=False) # get egocentric neighborhood \n",
    "bpg_subgraph.show(vlabel='id', highlight=['RGA1', 'PIN4'], arrows=True)\n",
    "\n",
    "# print bpg_subgraph.summary()"
   ]
  },
  {
   "cell_type": "code",
   "execution_count": 21,
   "metadata": {
    "collapsed": false
   },
   "outputs": [
    {
     "name": "stdout",
     "output_type": "stream",
     "text": [
      "Canvas is accessible via web browser at the URL: http://localhost:56128/index.html\n",
      "Opening Canvas in default web browser.\n"
     ]
    }
   ],
   "source": [
    "target = ['AT2G01970'] \n",
    "bpg_subgraph = bpg.get_neighborhood(ids=target, radius=2, full_subgraph=False) # get egocentric neighborhood \n",
    "bpg_subgraph.show(vlabel='id', highlight=['AT2G01970', 'RR14'], arrows=True)\n",
    "\n",
    "# print bpg_subgraph.summary()"
   ]
  },
  {
   "cell_type": "code",
   "execution_count": 20,
   "metadata": {
    "collapsed": false
   },
   "outputs": [
    {
     "name": "stdout",
     "output_type": "stream",
     "text": [
      "Canvas is updated and available in a tab in the default browser.\n"
     ]
    }
   ],
   "source": [
    "target = ['RR14']\n",
    "bpg_subgraph = bpg.get_neighborhood(ids=target, radius=2, full_subgraph=False) # get egocentric neighborhood \n",
    "bpg_subgraph.show(vlabel='id', highlight=['RR14', 'AT2G01680'], arrows=True)\n",
    "\n",
    "# print bpg_subgraph.summary()"
   ]
  },
  {
   "cell_type": "code",
   "execution_count": 26,
   "metadata": {
    "collapsed": false
   },
   "outputs": [
    {
     "name": "stdout",
     "output_type": "stream",
     "text": [
      "Canvas is accessible via web browser at the URL: http://localhost:56128/index.html\n",
      "Opening Canvas in default web browser.\n"
     ]
    }
   ],
   "source": [
    "target = ['MGT3', 'TX1']\n",
    "bpg_subgraph = bpg.get_neighborhood(ids=target, radius=1, full_subgraph=False) # get egocentric neighborhood \n",
    "bpg_subgraph.show(vlabel='id', highlight=['MGT3', 'TX1'], arrows=True)\n",
    "\n",
    "# print bpg_subgraph.summary()"
   ]
  }
 ],
 "metadata": {
  "kernelspec": {
   "display_name": "Python 2",
   "language": "python",
   "name": "python2"
  },
  "language_info": {
   "codemirror_mode": {
    "name": "ipython",
    "version": 2
   },
   "file_extension": ".py",
   "mimetype": "text/x-python",
   "name": "python",
   "nbconvert_exporter": "python",
   "pygments_lexer": "ipython2",
   "version": "2.7.11"
  }
 },
 "nbformat": 4,
 "nbformat_minor": 0
}
