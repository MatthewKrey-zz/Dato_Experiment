{
 "cells": [
  {
   "cell_type": "code",
   "execution_count": 1,
   "metadata": {
    "collapsed": false
   },
   "outputs": [
    {
     "name": "stderr",
     "output_type": "stream",
     "text": [
      "[INFO] \u001b[1;32m1450665811 : INFO:     (initialize_globals_from_environment:282): Setting configuration variable GRAPHLAB_FILEIO_ALTERNATIVE_SSL_CERT_FILE to /Users/matthewkrey/anaconda2/envs/dato-env/lib/python2.7/site-packages/certifi/cacert.pem\n",
      "\u001b[0m\u001b[1;32m1450665811 : INFO:     (initialize_globals_from_environment:282): Setting configuration variable GRAPHLAB_FILEIO_ALTERNATIVE_SSL_CERT_DIR to \n",
      "\u001b[0mThis non-commercial license of GraphLab Create is assigned to matthew.krey@flatironschool.com and will expire on December 14, 2016. For commercial licensing options, visit https://dato.com/buy/.\n",
      "\n",
      "[INFO] Start server at: ipc:///tmp/graphlab_server-57410 - Server binary: /Users/matthewkrey/anaconda2/envs/dato-env/lib/python2.7/site-packages/graphlab/unity_server - Server log: /tmp/graphlab_server_1450665811.log\n",
      "[INFO] GraphLab Server Version: 1.7.1\n"
     ]
    },
    {
     "name": "stdout",
     "output_type": "stream",
     "text": [
      "PROGRESS: Finished parsing file /Users/matthewkrey/anaconda2/DATO/data/BIOGRID-ALL-3.4.131.csv\n",
      "PROGRESS: Parsing completed. Parsed 100 lines in 0.950091 secs.\n",
      "------------------------------------------------------\n",
      "Inferred types from first line of file as \n",
      "column_type_hints=[int,int,int,int,int,str,str,str,str,str,str,str,str,str,int,int,int,str,str,str,str,str,str,str]\n",
      "If parsing fails due to incorrect types, you can correct\n",
      "the inferred type list above and pass it to read_csv in\n",
      "the column_type_hints argument\n",
      "------------------------------------------------------\n",
      "PROGRESS: Read 178742 lines. Lines per second: 173161\n",
      "PROGRESS: Unable to parse line \"868953,3704128,-,1220045,4349896,C7_02030W_A,C2_04290W_A,HSP90,RIM11,CaO6.7645|CAWG_05553|CaJ7_0234|IPF4596.2|Contig4-3089_0026|IPF20556.1|C7_02030W_B|orf19.13868|orf19_6515|CaO19.6515|CaO19_6515|orf6.7645|CaO19.13868|CA4959|C7_02030W|orf19.6515|CaJ7.0234,...\"\n",
      "PROGRESS: Unable to parse line \"1415262,4953,4946,111007,111000,-,-,ODC1,OAZ1,ODC,AZI|OAZ,Reconstituted Complex,physical,Chen H (2002),12359729,9606,9606,Low Throughput,-,-,-,-,\"\n",
      "PROGRESS: 2 lines failed to parse correctly\n",
      "PROGRESS: Finished parsing file /Users/matthewkrey/anaconda2/DATO/data/BIOGRID-ALL-3.4.131.csv\n",
      "PROGRESS: Parsing completed. Parsed 932037 lines in 4.67218 secs.\n",
      "Canvas is accessible via web browser at the URL: http://localhost:55477/index.html\n",
      "Opening Canvas in default web browser.\n"
     ]
    }
   ],
   "source": [
    "\"\"\"\n",
    "Experimenting with graphing Human Proteome. Exploring BioPlex project seen on Twitter at Harvard Medical School.\n",
    "\n",
    "BioPlex Project @ http://wren.hms.harvard.edu/bioplex/index.php\n",
    "Facebook for the Proteome @ http://hms.harvard.edu/news/facebook-proteome\n",
    "\n",
    "\"\"\"\n",
    "\n",
    "import csv \n",
    "import graphlab as gl\n",
    "from graphlab import SGraph, Vertex, Edge\n",
    "\n",
    "# Download BioGRID dataset @ http://thebiogrid.org/download.php. Convert .txt to .csv for Dato import \n",
    "txt_file = r\"data/BIOGRID-ALL-3.4.131.tab2.txt\"\n",
    "csv_file = r\"data/BIOGRID-ALL-3.4.131.csv\"\n",
    "\n",
    "bioplex_in_txt = csv.reader(open(txt_file, \"rb\"), delimiter = '\\t')\n",
    "bioplex_out_csv = csv.writer(open(csv_file, \"wb\"))\n",
    "\n",
    "bioplex_data = bioplex_out_csv.writerows(bioplex_in_txt)\n",
    "\n",
    "bioplex_data = gl.SFrame.read_csv('data/BIOGRID-ALL-3.4.131.csv') # load .csv into SFrame\n",
    "subset_bpd = bioplex_data[(bioplex_data['BioGRID ID Interactor A'] <= 1000)]\n",
    "subset_bpd.show()"
   ]
  },
  {
   "cell_type": "code",
   "execution_count": 2,
   "metadata": {
    "collapsed": false
   },
   "outputs": [
    {
     "name": "stdout",
     "output_type": "stream",
     "text": [
      "SGraph({'num_edges': 812, 'num_vertices': 522})\n"
     ]
    }
   ],
   "source": [
    "# Construct BioPlex graph \n",
    "edge_data = subset_bpd\n",
    "edge_graph = SGraph()\n",
    "bioplex_graph = edge_graph.add_edges(edge_data, src_field='Official Symbol Interactor A', dst_field='Official Symbol Interactor B')\n",
    "\n",
    "bpg = bioplex_graph\n",
    "print bpg\n"
   ]
  },
  {
   "cell_type": "code",
   "execution_count": 3,
   "metadata": {
    "collapsed": false
   },
   "outputs": [
    {
     "name": "stdout",
     "output_type": "stream",
     "text": [
      "Canvas is accessible via web browser at the URL: http://localhost:55477/index.html\n",
      "Opening Canvas in default web browser.\n"
     ]
    }
   ],
   "source": [
    "# Experimenting with graph exploration... this is a very large graph... \n",
    "\n",
    "# targets = ['RGA1', 'PIN4', 'AT2G01970', 'RR14', 'AT2G01680', 'MGT3', 'TX1']\n",
    "targets = ['RGA1'] #'PIN4', 'AT2G01970', 'RR14', 'AT2G01680', 'MGT3', 'TX1']\n",
    "bpg_subgraph = bpg.get_neighborhood(ids=targets, radius=1, full_subgraph=False) # get egocentric neighborhood \n",
    "bpg_subgraph.show(vlabel='id', highlight=['RGA1', 'PIN4'], arrows=True)\n",
    "\n",
    "# print bpg_subgraph.summary()\n",
    "\n",
    "# sub_verts = bioplex_graph.get_vertices(ids='NAB2')\n",
    "# print sub_verts"
   ]
  },
  {
   "cell_type": "code",
   "execution_count": null,
   "metadata": {
    "collapsed": true
   },
   "outputs": [],
   "source": []
  }
 ],
 "metadata": {
  "kernelspec": {
   "display_name": "Python 2",
   "language": "python",
   "name": "python2"
  },
  "language_info": {
   "codemirror_mode": {
    "name": "ipython",
    "version": 2
   },
   "file_extension": ".py",
   "mimetype": "text/x-python",
   "name": "python",
   "nbconvert_exporter": "python",
   "pygments_lexer": "ipython2",
   "version": "2.7.11"
  }
 },
 "nbformat": 4,
 "nbformat_minor": 0
}
